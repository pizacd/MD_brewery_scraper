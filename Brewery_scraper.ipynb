{
 "cells": [
  {
   "cell_type": "markdown",
   "id": "44ba9d26",
   "metadata": {},
   "source": [
    "# Import Libraries"
   ]
  },
  {
   "cell_type": "code",
   "execution_count": 93,
   "id": "e0c3c4a7",
   "metadata": {},
   "outputs": [],
   "source": [
    "#import all required libraries\n",
    "from decimal import Decimal\n",
    "from io import BytesIO\n",
    "import json\n",
    "import logging\n",
    "import os\n",
    "from pprint import pprint\n",
    "import requests\n",
    "from zipfile import ZipFile\n",
    "from boto3.dynamodb.conditions import Key\n",
    "from boto3 import Session\n",
    "from botocore.exceptions import ClientError\n",
    "from configparser import ConfigParser\n",
    "from selenium import webdriver\n",
    "from selenium.webdriver.chrome.options import Options as ChromeOptions\n",
    "from selenium.webdriver.chrome.service import Service as ChromeService\n",
    "from selenium.webdriver.common.by import By\n",
    "from selenium.webdriver.support.ui import WebDriverWait\n",
    "from selenium.webdriver.support import expected_conditions as EC\n",
    "from webdriver_manager.chrome import ChromeDriverManager\n",
    "import time\n",
    "import csv\n",
    "from datetime import date\n",
    "import pandas as pd\n",
    "import re\n",
    "\n",
    "from src.beer_functions import Beers"
   ]
  },
  {
   "cell_type": "code",
   "execution_count": 94,
   "id": "72693066",
   "metadata": {},
   "outputs": [],
   "source": [
    "session = Session(profile_name='ds1')\n",
    "dyn_resource = session.resource(\"dynamodb\")\n",
    "table = dyn_resource.Table('md-brewery')"
   ]
  },
  {
   "cell_type": "code",
   "execution_count": 51,
   "id": "226726e2",
   "metadata": {},
   "outputs": [],
   "source": [
    "table = dyn_resource.create_table(TableName = 'md-brewery',\n",
    "                              KeySchema=[\n",
    "                    {\"AttributeName\": \"scraping_date\", \"KeyType\": \"HASH\"},  # Partition key\n",
    "                    {\"AttributeName\": \"beer_name\", \"KeyType\": \"RANGE\"},  # Sort key\n",
    "                ],\n",
    "                AttributeDefinitions=[\n",
    "                    {\"AttributeName\": \"scraping_date\", \"AttributeType\": \"S\"},\n",
    "                    {\"AttributeName\": \"beer_name\", \"AttributeType\": \"S\"},\n",
    "                ],\n",
    "                ProvisionedThroughput={\n",
    "                    \"ReadCapacityUnits\": 5,\n",
    "                    \"WriteCapacityUnits\": 5,\n",
    "                },)\n",
    "table.wait_until_exists()"
   ]
  },
  {
   "cell_type": "code",
   "execution_count": 95,
   "id": "a3a5a596",
   "metadata": {},
   "outputs": [],
   "source": [
    "with open(\"beer_xpaths.json\") as file:\n",
    "    beer_json = json.load(file)"
   ]
  },
  {
   "cell_type": "code",
   "execution_count": 96,
   "id": "811d7125",
   "metadata": {},
   "outputs": [
    {
     "name": "stdout",
     "output_type": "stream",
     "text": [
      "cushwa\n",
      "blackflag\n"
     ]
    }
   ],
   "source": [
    "for key in beer_json.keys():\n",
    "    print(key)"
   ]
  },
  {
   "cell_type": "code",
   "execution_count": 97,
   "id": "c7010f93",
   "metadata": {},
   "outputs": [
    {
     "data": {
      "text/plain": [
       "{'name': 'Cushwa Brewing',\n",
       " 'url': 'https://cushwabrewing.com/columbia',\n",
       " 'authentication': {'name': 'overAge'},\n",
       " 'beer_attrs': {'beers': {'xpath': \"//html//div[@class='item']//h4//span[@id]\"},\n",
       "  'style': {'xpath': \"//html//div[@class='item']//h4//span[@class='item-category']\"},\n",
       "  'description': {'xpath': \"//html//div[@class='item']//p[@class='link-font-color show-less item-title-color']\"},\n",
       "  'abv': {'classname': 'item-abv'},\n",
       "  'brewery': {'classname': 'brewery'}}}"
      ]
     },
     "execution_count": 97,
     "metadata": {},
     "output_type": "execute_result"
    }
   ],
   "source": [
    "beer_json['cushwa']"
   ]
  },
  {
   "cell_type": "code",
   "execution_count": 98,
   "id": "e3ea25fb",
   "metadata": {},
   "outputs": [
    {
     "name": "stdout",
     "output_type": "stream",
     "text": [
      "no\n"
     ]
    }
   ],
   "source": [
    "if beer_json['cushwa']['authentication'] is False:\n",
    "    print('yes')\n",
    "else:\n",
    "    print('no')"
   ]
  },
  {
   "cell_type": "code",
   "execution_count": 92,
   "id": "366197e7",
   "metadata": {},
   "outputs": [
    {
     "data": {
      "text/plain": [
       "dict_keys(['cushwa', 'blackflag'])"
      ]
     },
     "execution_count": 92,
     "metadata": {},
     "output_type": "execute_result"
    }
   ],
   "source": [
    "beer_json.keys()"
   ]
  },
  {
   "cell_type": "code",
   "execution_count": 89,
   "id": "1dd26df6",
   "metadata": {},
   "outputs": [
    {
     "data": {
      "text/plain": [
       "2"
      ]
     },
     "execution_count": 89,
     "metadata": {},
     "output_type": "execute_result"
    }
   ],
   "source": [
    "len(beer_json.items())"
   ]
  },
  {
   "cell_type": "code",
   "execution_count": 112,
   "id": "41103baa",
   "metadata": {},
   "outputs": [],
   "source": [
    "def scrape_info(attribute_dict: dict) ->list:\n",
    "    \"\"\"returns the text of a webpage using the argument scraping_method for\n",
    "    path scraping_path\"\"\"\n",
    "    assert len(attribute_dict.items())==1\n",
    "    scraping_method = list(attribute_dict.keys())[0]\n",
    "    scraping_path = list(attribute_dict.values())[0]\n",
    "    if scraping_method.lower().startswith('class'):\n",
    "        try:\n",
    "            text = [col.text for col in driver.find_elements(By.CLASS_NAME,\n",
    "                                                             scraping_path)]\n",
    "        except ValueError:\n",
    "            pass\n",
    "    elif scraping_method.lower().startswith(\"xpath\"):\n",
    "        try:\n",
    "            text = [col.text for col in driver.find_elements(By.XPATH,\n",
    "                                                             scraping_path)]\n",
    "        except ValueError:\n",
    "            pass\n",
    "    return text\n",
    "    \n",
    "    # [col.text for col in driver.find_elements(By.CLASS_NAME,'item-abv')]\n",
    "    # pass"
   ]
  },
  {
   "cell_type": "code",
   "execution_count": 100,
   "id": "86a4a4d1",
   "metadata": {},
   "outputs": [],
   "source": [
    "def clean_abv(raw_abv: str)-> str:\n",
    "    abv_final = re.match(pattern = \"[0-9]+[.]*[0-9]*\",\n",
    "                               string = raw_abv).group(0)\n",
    "    return abv_final"
   ]
  },
  {
   "cell_type": "code",
   "execution_count": 123,
   "id": "8da11bdc",
   "metadata": {},
   "outputs": [
    {
     "name": "stdout",
     "output_type": "stream",
     "text": [
      "md-brewery\n"
     ]
    }
   ],
   "source": [
    "for table in dyn_resource.tables.all():\n",
    "                print(table.name)"
   ]
  },
  {
   "cell_type": "code",
   "execution_count": 101,
   "id": "46c5e15d",
   "metadata": {},
   "outputs": [],
   "source": [
    "# Chromedriver located in /usr/local/bin\n",
    "\n",
    "driver = webdriver.Chrome()"
   ]
  },
  {
   "cell_type": "markdown",
   "id": "0aaf241d",
   "metadata": {},
   "source": [
    "# Create Class for brewery scraping"
   ]
  },
  {
   "cell_type": "code",
   "execution_count": 13,
   "id": "86935265",
   "metadata": {},
   "outputs": [],
   "source": [
    "class Brewery:\n",
    "    def __init__(self,name,url):\n",
    "        self.name = name\n",
    "        self.url = url\n",
    "    def __str__(self):\n",
    "        return self.name\n",
    "    def __repr__(self):\n",
    "        return f\"Brewery({self.name}, {self.url})\"\n",
    "cushwa = Brewery('Cushwa Brewing', \"https://cushwabrewing.com/columbia\")\n",
    "driver.get(cushwa.url)\n",
    "# button = driver.find_element(By.NAME, 'overAge')\n",
    "# button.click()"
   ]
  },
  {
   "cell_type": "code",
   "execution_count": 102,
   "id": "eeb5df76",
   "metadata": {},
   "outputs": [],
   "source": [
    "def authenticate_age(scraping_path: str):\n",
    "    try:\n",
    "        button = driver.find_element(By.NAME, scraping_path)\n",
    "        return button.click()\n",
    "    except:\n",
    "        button = button = driver.find_element(By.XPATH, scraping_path)\n",
    "        return button.click()\n"
   ]
  },
  {
   "cell_type": "code",
   "execution_count": 103,
   "id": "ba327e9d",
   "metadata": {},
   "outputs": [
    {
     "data": {
      "text/plain": [
       "{'name': 'Cushwa Brewing',\n",
       " 'url': 'https://cushwabrewing.com/columbia',\n",
       " 'authentication': {'name': 'overAge'},\n",
       " 'beer_attrs': {'beers': {'xpath': \"//html//div[@class='item']//h4//span[@id]\"},\n",
       "  'style': {'xpath': \"//html//div[@class='item']//h4//span[@class='item-category']\"},\n",
       "  'description': {'xpath': \"//html//div[@class='item']//p[@class='link-font-color show-less item-title-color']\"},\n",
       "  'abv': {'classname': 'item-abv'},\n",
       "  'brewery': {'classname': 'brewery'}}}"
      ]
     },
     "execution_count": 103,
     "metadata": {},
     "output_type": "execute_result"
    }
   ],
   "source": [
    "beer_json[\"cushwa\"]"
   ]
  },
  {
   "cell_type": "code",
   "execution_count": 105,
   "id": "b296c5da",
   "metadata": {},
   "outputs": [],
   "source": [
    "driver.get(beer_json[\"cushwa\"][\"url\"])"
   ]
  },
  {
   "cell_type": "code",
   "execution_count": 106,
   "id": "b821259d",
   "metadata": {},
   "outputs": [],
   "source": [
    "authenticate_age(\"overAge\")"
   ]
  },
  {
   "cell_type": "code",
   "execution_count": 111,
   "id": "1bcf9616",
   "metadata": {},
   "outputs": [
    {
     "name": "stdout",
     "output_type": "stream",
     "text": [
      "{'xpath': \"//html//div[@class='item']//h4//span[@id]\"}\n",
      "{'xpath': \"//html//div[@class='item']//h4//span[@class='item-category']\"}\n",
      "{'xpath': \"//html//div[@class='item']//p[@class='link-font-color show-less item-title-color']\"}\n",
      "{'classname': 'item-abv'}\n",
      "{'classname': 'brewery'}\n"
     ]
    }
   ],
   "source": [
    "for key in beer_json['cushwa']['beer_attrs'].keys():\n",
    "    print(beer_json['cushwa']['beer_attrs'][key])"
   ]
  },
  {
   "cell_type": "code",
   "execution_count": 131,
   "id": "ad033a96",
   "metadata": {},
   "outputs": [],
   "source": [
    "beer_dict = dict()\n",
    "for key in beer_json['cushwa']['beer_attrs'].keys():\n",
    "    if key.lower() != 'abv':\n",
    "        beer_dict[key] = scrape_info(beer_json['cushwa'][\"beer_attrs\"][key])\n",
    "    else:\n",
    "        beer_dict[key] = [clean_abv(abv) \\\n",
    "                          for abv in scrape_info(beer_json['cushwa'] \\\n",
    "                                                 [\"beer_attrs\"][key])]\n",
    "\n",
    "beer_dict[\"scraping_date\"] = date.today().strftime(\"%m/%d/%Y\")"
   ]
  },
  {
   "cell_type": "code",
   "execution_count": 132,
   "id": "f4dbeb09",
   "metadata": {},
   "outputs": [
    {
     "data": {
      "text/html": [
       "<div>\n",
       "<style scoped>\n",
       "    .dataframe tbody tr th:only-of-type {\n",
       "        vertical-align: middle;\n",
       "    }\n",
       "\n",
       "    .dataframe tbody tr th {\n",
       "        vertical-align: top;\n",
       "    }\n",
       "\n",
       "    .dataframe thead th {\n",
       "        text-align: right;\n",
       "    }\n",
       "</style>\n",
       "<table border=\"1\" class=\"dataframe\">\n",
       "  <thead>\n",
       "    <tr style=\"text-align: right;\">\n",
       "      <th></th>\n",
       "      <th>beers</th>\n",
       "      <th>style</th>\n",
       "      <th>description</th>\n",
       "      <th>abv</th>\n",
       "      <th>brewery</th>\n",
       "      <th>scraping_date</th>\n",
       "    </tr>\n",
       "  </thead>\n",
       "  <tbody>\n",
       "    <tr>\n",
       "      <th>0</th>\n",
       "      <td>X Marks the Spot</td>\n",
       "      <td>Lager - Mexican</td>\n",
       "      <td>This Mexican Style Amber pours a beautiful lig...</td>\n",
       "      <td>5.4</td>\n",
       "      <td>Cushwa Brewing Co.</td>\n",
       "      <td>05/09/2024</td>\n",
       "    </tr>\n",
       "    <tr>\n",
       "      <th>1</th>\n",
       "      <td>Mai the 4th Be With You</td>\n",
       "      <td>Maibock</td>\n",
       "      <td>Maibock, a pale, malt driven lager. With notes...</td>\n",
       "      <td>6.7</td>\n",
       "      <td>Cushwa Brewing Co.</td>\n",
       "      <td>05/09/2024</td>\n",
       "    </tr>\n",
       "    <tr>\n",
       "      <th>2</th>\n",
       "      <td>Starting Over</td>\n",
       "      <td>Lager - Dortmunder</td>\n",
       "      <td>We’re always excited to go back into the beer ...</td>\n",
       "      <td>5</td>\n",
       "      <td>Cushwa Brewing Co.</td>\n",
       "      <td>05/09/2024</td>\n",
       "    </tr>\n",
       "    <tr>\n",
       "      <th>3</th>\n",
       "      <td>That'll Play</td>\n",
       "      <td>Lager - American Light</td>\n",
       "      <td>Sky’s out limes out. That’ll Play is a clean, ...</td>\n",
       "      <td>4.2</td>\n",
       "      <td>Cushwa Brewing Co.</td>\n",
       "      <td>05/09/2024</td>\n",
       "    </tr>\n",
       "    <tr>\n",
       "      <th>4</th>\n",
       "      <td>That’ll Play Masters Edition</td>\n",
       "      <td>Lager - American Light</td>\n",
       "      <td>We took our That’ll Play lager and gave it the...</td>\n",
       "      <td>4.2</td>\n",
       "      <td>Cushwa Brewing Co.</td>\n",
       "      <td>05/09/2024</td>\n",
       "    </tr>\n",
       "    <tr>\n",
       "      <th>5</th>\n",
       "      <td>Rad Beer</td>\n",
       "      <td>Lager - American Light</td>\n",
       "      <td>When you have a pizza as good as the World Cha...</td>\n",
       "      <td>4.8</td>\n",
       "      <td>Cushwa Brewing Co.</td>\n",
       "      <td>05/09/2024</td>\n",
       "    </tr>\n",
       "    <tr>\n",
       "      <th>6</th>\n",
       "      <td>Kolschwa</td>\n",
       "      <td>Kölsch</td>\n",
       "      <td>Brewed traditionally to the German style</td>\n",
       "      <td>5</td>\n",
       "      <td>Cushwa Brewing Co.</td>\n",
       "      <td>05/09/2024</td>\n",
       "    </tr>\n",
       "    <tr>\n",
       "      <th>7</th>\n",
       "      <td>Pura Pils</td>\n",
       "      <td>Pilsner - Other</td>\n",
       "      <td>An all-day crusher, packed full of flavor that...</td>\n",
       "      <td>5.5</td>\n",
       "      <td>Cushwa Brewing Co.</td>\n",
       "      <td>05/09/2024</td>\n",
       "    </tr>\n",
       "    <tr>\n",
       "      <th>8</th>\n",
       "      <td>Going Bridge</td>\n",
       "      <td>Red Ale - Irish</td>\n",
       "      <td>Predominantly Irish malt, and is fermented wit...</td>\n",
       "      <td>4.8</td>\n",
       "      <td>Cushwa Brewing Co.</td>\n",
       "      <td>05/09/2024</td>\n",
       "    </tr>\n",
       "    <tr>\n",
       "      <th>9</th>\n",
       "      <td>Wit</td>\n",
       "      <td>Witbier</td>\n",
       "      <td>This is a very traditional Belgian Witbier (no...</td>\n",
       "      <td>5.7</td>\n",
       "      <td>Cushwa Brewing Co.</td>\n",
       "      <td>05/09/2024</td>\n",
       "    </tr>\n",
       "    <tr>\n",
       "      <th>10</th>\n",
       "      <td>Tenuous Pawn</td>\n",
       "      <td>Brown Ale - English</td>\n",
       "      <td>This is a relatively complex beer that is malt...</td>\n",
       "      <td>6.6</td>\n",
       "      <td>Cushwa Brewing Co.</td>\n",
       "      <td>05/09/2024</td>\n",
       "    </tr>\n",
       "    <tr>\n",
       "      <th>11</th>\n",
       "      <td>Chernaya</td>\n",
       "      <td>Porter - Baltic</td>\n",
       "      <td>Deep mahogany in color. In the aroma you will ...</td>\n",
       "      <td>8.3</td>\n",
       "      <td>Cushwa Brewing Co.</td>\n",
       "      <td>05/09/2024</td>\n",
       "    </tr>\n",
       "    <tr>\n",
       "      <th>12</th>\n",
       "      <td>Wishing Chair</td>\n",
       "      <td>Stout - Irish Dry</td>\n",
       "      <td>This stout has an aroma and flavor that is fil...</td>\n",
       "      <td>4.5</td>\n",
       "      <td>Cushwa Brewing Co.</td>\n",
       "      <td>05/09/2024</td>\n",
       "    </tr>\n",
       "    <tr>\n",
       "      <th>13</th>\n",
       "      <td>Roach</td>\n",
       "      <td>Pale Ale - New England</td>\n",
       "      <td>Hopped with Mosaic, Denali, Citra, Kohatu, and...</td>\n",
       "      <td>5.8</td>\n",
       "      <td>Cushwa Brewing Co.</td>\n",
       "      <td>05/09/2024</td>\n",
       "    </tr>\n",
       "    <tr>\n",
       "      <th>14</th>\n",
       "      <td>Joint (Collab w/ Wet City)</td>\n",
       "      <td>IPA - New England</td>\n",
       "      <td>A joint effort with our buds at Wet City. It i...</td>\n",
       "      <td>7</td>\n",
       "      <td>Cushwa Brewing Co.</td>\n",
       "      <td>05/09/2024</td>\n",
       "    </tr>\n",
       "    <tr>\n",
       "      <th>15</th>\n",
       "      <td>Blunt (Collab w/ Wet City)</td>\n",
       "      <td>IPA - Double New England / Hazy</td>\n",
       "      <td>Collab with our buds at Wet City. It is hopped...</td>\n",
       "      <td>8.2</td>\n",
       "      <td>Cushwa Brewing Co.</td>\n",
       "      <td>05/09/2024</td>\n",
       "    </tr>\n",
       "    <tr>\n",
       "      <th>16</th>\n",
       "      <td>Friendship Paradox</td>\n",
       "      <td>Pale Ale - American</td>\n",
       "      <td>Friendship Paradox, a West Coast Pale Ale, use...</td>\n",
       "      <td>6</td>\n",
       "      <td>Cushwa Brewing Co.</td>\n",
       "      <td>05/09/2024</td>\n",
       "    </tr>\n",
       "    <tr>\n",
       "      <th>17</th>\n",
       "      <td>Epenthesis</td>\n",
       "      <td>IPA - American</td>\n",
       "      <td>An American IPA hopped with Citra, Chinook, an...</td>\n",
       "      <td>6.8</td>\n",
       "      <td>Cushwa Brewing Co.</td>\n",
       "      <td>05/09/2024</td>\n",
       "    </tr>\n",
       "    <tr>\n",
       "      <th>18</th>\n",
       "      <td>Faint Young Sun</td>\n",
       "      <td>IPA - American</td>\n",
       "      <td>Faint Young Sun, an American IPA, radiates wit...</td>\n",
       "      <td>6.8</td>\n",
       "      <td>Cushwa Brewing Co.</td>\n",
       "      <td>05/09/2024</td>\n",
       "    </tr>\n",
       "    <tr>\n",
       "      <th>19</th>\n",
       "      <td>Cush</td>\n",
       "      <td>IPA - New England</td>\n",
       "      <td>Our hazy, crushable flagship IPA</td>\n",
       "      <td>6.5</td>\n",
       "      <td>Cushwa Brewing Co.</td>\n",
       "      <td>05/09/2024</td>\n",
       "    </tr>\n",
       "    <tr>\n",
       "      <th>20</th>\n",
       "      <td>Cali Cush</td>\n",
       "      <td>IPA - American</td>\n",
       "      <td>We took our flagship IPA, Cush, and decided to...</td>\n",
       "      <td>6.5</td>\n",
       "      <td>Cushwa Brewing Co.</td>\n",
       "      <td>05/09/2024</td>\n",
       "    </tr>\n",
       "    <tr>\n",
       "      <th>21</th>\n",
       "      <td>Big Cush W/ Nelson</td>\n",
       "      <td>IPA - Imperial</td>\n",
       "      <td>This Nelson dry hopped version of Big Cush has...</td>\n",
       "      <td>8</td>\n",
       "      <td>Cushwa Brewing Co.</td>\n",
       "      <td>05/09/2024</td>\n",
       "    </tr>\n",
       "    <tr>\n",
       "      <th>22</th>\n",
       "      <td>TyPA</td>\n",
       "      <td>IPA - New England</td>\n",
       "      <td>This is an homage to a couple of our favorite ...</td>\n",
       "      <td>7</td>\n",
       "      <td>Cushwa Brewing Co.</td>\n",
       "      <td>05/09/2024</td>\n",
       "    </tr>\n",
       "    <tr>\n",
       "      <th>23</th>\n",
       "      <td>Ramen Profitable</td>\n",
       "      <td>IPA - Imperial</td>\n",
       "      <td>West Coast DIPA packed full of Cascade, Centen...</td>\n",
       "      <td>8</td>\n",
       "      <td>Cushwa Brewing Co.</td>\n",
       "      <td>05/09/2024</td>\n",
       "    </tr>\n",
       "    <tr>\n",
       "      <th>24</th>\n",
       "      <td>Preemptive Strike</td>\n",
       "      <td>IPA - Imperial</td>\n",
       "      <td>This double IPA was dry hopped with Wai-iti an...</td>\n",
       "      <td>8</td>\n",
       "      <td>Cushwa Brewing Co.</td>\n",
       "      <td>05/09/2024</td>\n",
       "    </tr>\n",
       "    <tr>\n",
       "      <th>25</th>\n",
       "      <td>Timing And Structure</td>\n",
       "      <td>IPA - Imperial</td>\n",
       "      <td>And it’s happened once again, we’ll turn to a ...</td>\n",
       "      <td>8</td>\n",
       "      <td>Cushwa Brewing Co.</td>\n",
       "      <td>05/09/2024</td>\n",
       "    </tr>\n",
       "    <tr>\n",
       "      <th>26</th>\n",
       "      <td>Era of Distraction w/Adroit Theory</td>\n",
       "      <td>IPA - Imperial</td>\n",
       "      <td>This beer was brewed with our friends at Adroi...</td>\n",
       "      <td>8</td>\n",
       "      <td>Cushwa Brewing Co.</td>\n",
       "      <td>05/09/2024</td>\n",
       "    </tr>\n",
       "    <tr>\n",
       "      <th>27</th>\n",
       "      <td>Face Chop</td>\n",
       "      <td>IPA - Imperial</td>\n",
       "      <td>Face Chop is our year-round all Citra Double IPA</td>\n",
       "      <td>8.2</td>\n",
       "      <td>Cushwa Brewing Co.</td>\n",
       "      <td>05/09/2024</td>\n",
       "    </tr>\n",
       "    <tr>\n",
       "      <th>28</th>\n",
       "      <td>Amani Synergy</td>\n",
       "      <td>IPA - American</td>\n",
       "      <td>A 6% west coast IPA, this beer is complex, wit...</td>\n",
       "      <td>6</td>\n",
       "      <td>Amani Brewing</td>\n",
       "      <td>05/09/2024</td>\n",
       "    </tr>\n",
       "    <tr>\n",
       "      <th>29</th>\n",
       "      <td>Big Oyster The Pillars of Dankness</td>\n",
       "      <td>IPA - Imperial</td>\n",
       "      <td>triple dry hopped Hazy Double IPA features thr...</td>\n",
       "      <td>8.3</td>\n",
       "      <td>Big Oyster Brewery</td>\n",
       "      <td>05/09/2024</td>\n",
       "    </tr>\n",
       "    <tr>\n",
       "      <th>30</th>\n",
       "      <td>Tired Hands Eviscerated Pathway of Beauty</td>\n",
       "      <td>IPA - Imperial</td>\n",
       "      <td>Citra Double IPA. Brewed with oats. Hopped int...</td>\n",
       "      <td>8.6</td>\n",
       "      <td>Tired Hands Brewing Company</td>\n",
       "      <td>05/09/2024</td>\n",
       "    </tr>\n",
       "    <tr>\n",
       "      <th>31</th>\n",
       "      <td>Electrofruit Bramble Berry Pie</td>\n",
       "      <td>Sour - Smoothie</td>\n",
       "      <td>Our house sour conditioned on blackberry puree...</td>\n",
       "      <td>6</td>\n",
       "      <td>Cushwa Brewing Co.</td>\n",
       "      <td>05/09/2024</td>\n",
       "    </tr>\n",
       "    <tr>\n",
       "      <th>32</th>\n",
       "      <td>Electrofruit Margarita</td>\n",
       "      <td>Sour - Smoothie</td>\n",
       "      <td>Our Electrofruit base hit with a margarita tre...</td>\n",
       "      <td>6</td>\n",
       "      <td>Cushwa Brewing Co.</td>\n",
       "      <td>05/09/2024</td>\n",
       "    </tr>\n",
       "    <tr>\n",
       "      <th>33</th>\n",
       "      <td>Elecrofruit Strawberry Shortcake</td>\n",
       "      <td>Sour - Smoothie</td>\n",
       "      <td>Our house sour ale conditioned on strawberry, ...</td>\n",
       "      <td>6</td>\n",
       "      <td>Cushwa Brewing Co.</td>\n",
       "      <td>05/09/2024</td>\n",
       "    </tr>\n",
       "    <tr>\n",
       "      <th>34</th>\n",
       "      <td>Dun</td>\n",
       "      <td>Farmhouse Ale - Grisette</td>\n",
       "      <td>Mixed fermentation Grisette aged in Big Cork V...</td>\n",
       "      <td>5</td>\n",
       "      <td>Cushwa Brewing Co.</td>\n",
       "      <td>05/09/2024</td>\n",
       "    </tr>\n",
       "    <tr>\n",
       "      <th>35</th>\n",
       "      <td>Glen</td>\n",
       "      <td>Farmhouse Ale - Grisette</td>\n",
       "      <td>Mixed fermentation Grisette aged in Big Cork V...</td>\n",
       "      <td>5</td>\n",
       "      <td>Cushwa Brewing Co.</td>\n",
       "      <td>05/09/2024</td>\n",
       "    </tr>\n",
       "    <tr>\n",
       "      <th>36</th>\n",
       "      <td>Mobtown Nojam</td>\n",
       "      <td>Dry Hopped Sour</td>\n",
       "      <td>Aromas of fresh squeezed orange juice and guav...</td>\n",
       "      <td>6.3</td>\n",
       "      <td>Mobtown Brewing Company</td>\n",
       "      <td>05/09/2024</td>\n",
       "    </tr>\n",
       "    <tr>\n",
       "      <th>37</th>\n",
       "      <td>Ace Pineapple Cider</td>\n",
       "      <td>Cider - Other Fruit</td>\n",
       "      <td>Ace Pineapple is the world's original Pineappl...</td>\n",
       "      <td>5</td>\n",
       "      <td>Ace Cider (The California Cider Company)</td>\n",
       "      <td>05/09/2024</td>\n",
       "    </tr>\n",
       "    <tr>\n",
       "      <th>38</th>\n",
       "      <td>Untitled Art Florida Seltzer</td>\n",
       "      <td>Prickly Pear &amp; Guava Hard Seltzer</td>\n",
       "      <td>Prickly pear and guava hard seltzer. From Flor...</td>\n",
       "      <td>5</td>\n",
       "      <td>Untitled Art</td>\n",
       "      <td>05/09/2024</td>\n",
       "    </tr>\n",
       "    <tr>\n",
       "      <th>39</th>\n",
       "      <td>Untitled Art N/A Juicy IPA</td>\n",
       "      <td>Non-Alcoholic Beer - IPA</td>\n",
       "      <td>Untitled Art's first Non Alcoholic IPA! Brewed...</td>\n",
       "      <td>0.5</td>\n",
       "      <td>Untitled Art</td>\n",
       "      <td>05/09/2024</td>\n",
       "    </tr>\n",
       "  </tbody>\n",
       "</table>\n",
       "</div>"
      ],
      "text/plain": [
       "                                        beers  \\\n",
       "0                            X Marks the Spot   \n",
       "1                     Mai the 4th Be With You   \n",
       "2                               Starting Over   \n",
       "3                                That'll Play   \n",
       "4                That’ll Play Masters Edition   \n",
       "5                                    Rad Beer   \n",
       "6                                    Kolschwa   \n",
       "7                                   Pura Pils   \n",
       "8                                Going Bridge   \n",
       "9                                         Wit   \n",
       "10                               Tenuous Pawn   \n",
       "11                                   Chernaya   \n",
       "12                              Wishing Chair   \n",
       "13                                      Roach   \n",
       "14                 Joint (Collab w/ Wet City)   \n",
       "15                 Blunt (Collab w/ Wet City)   \n",
       "16                         Friendship Paradox   \n",
       "17                                 Epenthesis   \n",
       "18                            Faint Young Sun   \n",
       "19                                       Cush   \n",
       "20                                  Cali Cush   \n",
       "21                         Big Cush W/ Nelson   \n",
       "22                                       TyPA   \n",
       "23                           Ramen Profitable   \n",
       "24                          Preemptive Strike   \n",
       "25                       Timing And Structure   \n",
       "26         Era of Distraction w/Adroit Theory   \n",
       "27                                  Face Chop   \n",
       "28                              Amani Synergy   \n",
       "29         Big Oyster The Pillars of Dankness   \n",
       "30  Tired Hands Eviscerated Pathway of Beauty   \n",
       "31             Electrofruit Bramble Berry Pie   \n",
       "32                     Electrofruit Margarita   \n",
       "33           Elecrofruit Strawberry Shortcake   \n",
       "34                                        Dun   \n",
       "35                                       Glen   \n",
       "36                              Mobtown Nojam   \n",
       "37                        Ace Pineapple Cider   \n",
       "38               Untitled Art Florida Seltzer   \n",
       "39                 Untitled Art N/A Juicy IPA   \n",
       "\n",
       "                                style  \\\n",
       "0                     Lager - Mexican   \n",
       "1                             Maibock   \n",
       "2                  Lager - Dortmunder   \n",
       "3              Lager - American Light   \n",
       "4              Lager - American Light   \n",
       "5              Lager - American Light   \n",
       "6                              Kölsch   \n",
       "7                     Pilsner - Other   \n",
       "8                     Red Ale - Irish   \n",
       "9                             Witbier   \n",
       "10                Brown Ale - English   \n",
       "11                    Porter - Baltic   \n",
       "12                  Stout - Irish Dry   \n",
       "13             Pale Ale - New England   \n",
       "14                  IPA - New England   \n",
       "15    IPA - Double New England / Hazy   \n",
       "16                Pale Ale - American   \n",
       "17                     IPA - American   \n",
       "18                     IPA - American   \n",
       "19                  IPA - New England   \n",
       "20                     IPA - American   \n",
       "21                     IPA - Imperial   \n",
       "22                  IPA - New England   \n",
       "23                     IPA - Imperial   \n",
       "24                     IPA - Imperial   \n",
       "25                     IPA - Imperial   \n",
       "26                     IPA - Imperial   \n",
       "27                     IPA - Imperial   \n",
       "28                     IPA - American   \n",
       "29                     IPA - Imperial   \n",
       "30                     IPA - Imperial   \n",
       "31                    Sour - Smoothie   \n",
       "32                    Sour - Smoothie   \n",
       "33                    Sour - Smoothie   \n",
       "34           Farmhouse Ale - Grisette   \n",
       "35           Farmhouse Ale - Grisette   \n",
       "36                    Dry Hopped Sour   \n",
       "37                Cider - Other Fruit   \n",
       "38  Prickly Pear & Guava Hard Seltzer   \n",
       "39           Non-Alcoholic Beer - IPA   \n",
       "\n",
       "                                          description  abv  \\\n",
       "0   This Mexican Style Amber pours a beautiful lig...  5.4   \n",
       "1   Maibock, a pale, malt driven lager. With notes...  6.7   \n",
       "2   We’re always excited to go back into the beer ...    5   \n",
       "3   Sky’s out limes out. That’ll Play is a clean, ...  4.2   \n",
       "4   We took our That’ll Play lager and gave it the...  4.2   \n",
       "5   When you have a pizza as good as the World Cha...  4.8   \n",
       "6            Brewed traditionally to the German style    5   \n",
       "7   An all-day crusher, packed full of flavor that...  5.5   \n",
       "8   Predominantly Irish malt, and is fermented wit...  4.8   \n",
       "9   This is a very traditional Belgian Witbier (no...  5.7   \n",
       "10  This is a relatively complex beer that is malt...  6.6   \n",
       "11  Deep mahogany in color. In the aroma you will ...  8.3   \n",
       "12  This stout has an aroma and flavor that is fil...  4.5   \n",
       "13  Hopped with Mosaic, Denali, Citra, Kohatu, and...  5.8   \n",
       "14  A joint effort with our buds at Wet City. It i...    7   \n",
       "15  Collab with our buds at Wet City. It is hopped...  8.2   \n",
       "16  Friendship Paradox, a West Coast Pale Ale, use...    6   \n",
       "17  An American IPA hopped with Citra, Chinook, an...  6.8   \n",
       "18  Faint Young Sun, an American IPA, radiates wit...  6.8   \n",
       "19                   Our hazy, crushable flagship IPA  6.5   \n",
       "20  We took our flagship IPA, Cush, and decided to...  6.5   \n",
       "21  This Nelson dry hopped version of Big Cush has...    8   \n",
       "22  This is an homage to a couple of our favorite ...    7   \n",
       "23  West Coast DIPA packed full of Cascade, Centen...    8   \n",
       "24  This double IPA was dry hopped with Wai-iti an...    8   \n",
       "25  And it’s happened once again, we’ll turn to a ...    8   \n",
       "26  This beer was brewed with our friends at Adroi...    8   \n",
       "27   Face Chop is our year-round all Citra Double IPA  8.2   \n",
       "28  A 6% west coast IPA, this beer is complex, wit...    6   \n",
       "29  triple dry hopped Hazy Double IPA features thr...  8.3   \n",
       "30  Citra Double IPA. Brewed with oats. Hopped int...  8.6   \n",
       "31  Our house sour conditioned on blackberry puree...    6   \n",
       "32  Our Electrofruit base hit with a margarita tre...    6   \n",
       "33  Our house sour ale conditioned on strawberry, ...    6   \n",
       "34  Mixed fermentation Grisette aged in Big Cork V...    5   \n",
       "35  Mixed fermentation Grisette aged in Big Cork V...    5   \n",
       "36  Aromas of fresh squeezed orange juice and guav...  6.3   \n",
       "37  Ace Pineapple is the world's original Pineappl...    5   \n",
       "38  Prickly pear and guava hard seltzer. From Flor...    5   \n",
       "39  Untitled Art's first Non Alcoholic IPA! Brewed...  0.5   \n",
       "\n",
       "                                     brewery scraping_date  \n",
       "0                         Cushwa Brewing Co.    05/09/2024  \n",
       "1                         Cushwa Brewing Co.    05/09/2024  \n",
       "2                         Cushwa Brewing Co.    05/09/2024  \n",
       "3                         Cushwa Brewing Co.    05/09/2024  \n",
       "4                         Cushwa Brewing Co.    05/09/2024  \n",
       "5                         Cushwa Brewing Co.    05/09/2024  \n",
       "6                         Cushwa Brewing Co.    05/09/2024  \n",
       "7                         Cushwa Brewing Co.    05/09/2024  \n",
       "8                         Cushwa Brewing Co.    05/09/2024  \n",
       "9                         Cushwa Brewing Co.    05/09/2024  \n",
       "10                        Cushwa Brewing Co.    05/09/2024  \n",
       "11                        Cushwa Brewing Co.    05/09/2024  \n",
       "12                        Cushwa Brewing Co.    05/09/2024  \n",
       "13                        Cushwa Brewing Co.    05/09/2024  \n",
       "14                        Cushwa Brewing Co.    05/09/2024  \n",
       "15                        Cushwa Brewing Co.    05/09/2024  \n",
       "16                        Cushwa Brewing Co.    05/09/2024  \n",
       "17                        Cushwa Brewing Co.    05/09/2024  \n",
       "18                        Cushwa Brewing Co.    05/09/2024  \n",
       "19                        Cushwa Brewing Co.    05/09/2024  \n",
       "20                        Cushwa Brewing Co.    05/09/2024  \n",
       "21                        Cushwa Brewing Co.    05/09/2024  \n",
       "22                        Cushwa Brewing Co.    05/09/2024  \n",
       "23                        Cushwa Brewing Co.    05/09/2024  \n",
       "24                        Cushwa Brewing Co.    05/09/2024  \n",
       "25                        Cushwa Brewing Co.    05/09/2024  \n",
       "26                        Cushwa Brewing Co.    05/09/2024  \n",
       "27                        Cushwa Brewing Co.    05/09/2024  \n",
       "28                             Amani Brewing    05/09/2024  \n",
       "29                        Big Oyster Brewery    05/09/2024  \n",
       "30               Tired Hands Brewing Company    05/09/2024  \n",
       "31                        Cushwa Brewing Co.    05/09/2024  \n",
       "32                        Cushwa Brewing Co.    05/09/2024  \n",
       "33                        Cushwa Brewing Co.    05/09/2024  \n",
       "34                        Cushwa Brewing Co.    05/09/2024  \n",
       "35                        Cushwa Brewing Co.    05/09/2024  \n",
       "36                   Mobtown Brewing Company    05/09/2024  \n",
       "37  Ace Cider (The California Cider Company)    05/09/2024  \n",
       "38                              Untitled Art    05/09/2024  \n",
       "39                              Untitled Art    05/09/2024  "
      ]
     },
     "execution_count": 132,
     "metadata": {},
     "output_type": "execute_result"
    }
   ],
   "source": [
    "pd.DataFrame(beer_dict)"
   ]
  },
  {
   "cell_type": "code",
   "execution_count": 20,
   "id": "6d54142b",
   "metadata": {},
   "outputs": [],
   "source": [
    "driver.quit()"
   ]
  },
  {
   "cell_type": "markdown",
   "id": "b72e05cc",
   "metadata": {},
   "source": [
    "## Write each item to dynamodb table"
   ]
  },
  {
   "cell_type": "code",
   "execution_count": 133,
   "id": "043f5ccd",
   "metadata": {},
   "outputs": [],
   "source": [
    "with table.batch_writer() as writer:\n",
    "    for num in range(len(beer_dict['beers'])):\n",
    "        writer.put_item(Item={\n",
    "        \"scraping_date\": beer_dict[\"scraping_date\"],\n",
    "        \"brewery\": beer_dict[\"brewery\"][num],\n",
    "        \"beer_name\": beer_dict[\"beers\"][num],\n",
    "        \"style\": beer_dict[\"style\"][num],\n",
    "        \"abv\": Decimal(str(beer_dict[\"abv\"][num])),\n",
    "        \"description\": beer_dict[\"description\"][num]\n",
    "        }\n",
    "        )\n"
   ]
  },
  {
   "cell_type": "code",
   "execution_count": 64,
   "id": "301d97e1",
   "metadata": {},
   "outputs": [],
   "source": [
    "for num in range(len(beer_dict['name'])):\n",
    "    table.put_item(\n",
    "                Item={\n",
    "                    \"scraping_date\": beer_dict[\"scraping_date\"],\n",
    "                    \"brewery\": beer_dict[\"maker\"][num],\n",
    "                    \"beer_name\": beer_dict[\"name\"][num],\n",
    "                    \"style\": beer_dict[\"style\"][num],\n",
    "                    \"abv\": Decimal(str(beer_dict[\"abv\"][num])),\n",
    "                    \"description\": beer_dict[\"description\"][num]\n",
    "                    }\n",
    "            )"
   ]
  },
  {
   "cell_type": "markdown",
   "id": "ef3c68a4",
   "metadata": {},
   "source": [
    "# Elder Pine"
   ]
  },
  {
   "cell_type": "code",
   "execution_count": 44,
   "id": "1d93fb38",
   "metadata": {},
   "outputs": [],
   "source": [
    "driver.get(\"https://elderpine.com/tasting-room\")"
   ]
  },
  {
   "cell_type": "code",
   "execution_count": 45,
   "id": "56569adb",
   "metadata": {},
   "outputs": [
    {
     "data": {
      "text/plain": [
       "['EP Pils',\n",
       " 'Classic Pilsner',\n",
       " '5% ABV',\n",
       " 'Dunkel Wood',\n",
       " 'Oak-aged Munich-style Dark Lager ',\n",
       " '5.2% ABV',\n",
       " 'Dense Brume',\n",
       " 'Hazy IPA',\n",
       " '7% ABV',\n",
       " 'The Midnight Sun',\n",
       " 'Barrel-aged Dark Sour Ale',\n",
       " '9% ABV',\n",
       " 'The Slender Sun Receding',\n",
       " 'Barrel-aged Sour Citrus Ale',\n",
       " '7% ABV',\n",
       " 'Lemon Lime Reflections',\n",
       " 'Fruited Belgian-style Witbier',\n",
       " '5% ABV',\n",
       " 'Asleep on the West Coast',\n",
       " 'West Coast-style Double IPA',\n",
       " '8.7% ABV',\n",
       " 'Cognitive Relections',\n",
       " 'Classic Belgian-style Witbier',\n",
       " '5% ABV',\n",
       " 'COMING SOON',\n",
       " 'COMING SOON',\n",
       " 'COMING SOON',\n",
       " 'Pliable Foe',\n",
       " 'Coffee Dark Mild',\n",
       " '3.8% ABV',\n",
       " 'Sent Forth From The Eye Of The Storm',\n",
       " '',\n",
       " 'Barrel-aged Boysenberry Sour Ale',\n",
       " '8% ABV',\n",
       " 'Barrel-Aged Sparrow’s Fall',\n",
       " 'Vienna-style Lager',\n",
       " '5% ABV',\n",
       " 'Barrel-aged Thorunn The Shield Maiden',\n",
       " 'Inside Bar Only',\n",
       " 'Norwegian-inspired Helles Bock Lager',\n",
       " '8% ABV',\n",
       " 'Abject Terror',\n",
       " 'Inside Bar Only',\n",
       " 'Oak-aged Barleywine-style Lager ',\n",
       " '12% ABV',\n",
       " 'The Otter In The Rye',\n",
       " 'Barrel-aged Ryewine',\n",
       " '13% ABV',\n",
       " 'Lord Maris, The Otter ',\n",
       " 'Inside Bar Only',\n",
       " ' Barrel-aged English-style Barleywine',\n",
       " '15.7% ABV',\n",
       " 'NITRO Bitter Geezer ',\n",
       " 'Inside Bar Only',\n",
       " 'English-style ESB',\n",
       " '5.5% ABV',\n",
       " 'NITRO Barrel-aged Nut Brown',\n",
       " ' Inside Bar Only',\n",
       " 'English-style Nut Brown Ale',\n",
       " '6.8% ABV',\n",
       " 'COMING SOON',\n",
       " 'COMING SOON',\n",
       " 'COMING SOON']"
      ]
     },
     "execution_count": 45,
     "metadata": {},
     "output_type": "execute_result"
    }
   ],
   "source": [
    "[col.text for col in driver.find_elements(By.XPATH,\"//html//div[@class='row sqs-row']//p[@style='text-align:center;white-space:pre-wrap;']\")]"
   ]
  },
  {
   "cell_type": "code",
   "execution_count": 46,
   "id": "c504cb37",
   "metadata": {},
   "outputs": [],
   "source": [
    "elderpine = Brewery(\"Elder Pine Brewing\", url = \"https://elderpine.com/tasting-room\")"
   ]
  },
  {
   "cell_type": "code",
   "execution_count": 47,
   "id": "56019c27",
   "metadata": {},
   "outputs": [],
   "source": [
    "elderpine.beers = [col.text for col in driver.find_elements(By.XPATH,\"//div[@class='sqs-html-content']/p[contains(@style,'text')]/strong\")\n",
    "                   if re.search(\"[a-zA-Z]+\", col.text) and not col.text.lower().startswith('coming soon')]"
   ]
  },
  {
   "cell_type": "code",
   "execution_count": 48,
   "id": "711ca369",
   "metadata": {},
   "outputs": [
    {
     "data": {
      "text/plain": [
       "['EP Pils',\n",
       " 'Dunkel Wood',\n",
       " 'Dense Brume',\n",
       " 'The Midnight Sun',\n",
       " 'The Slender Sun Receding',\n",
       " 'Lemon Lime Reflections',\n",
       " 'Asleep on the West Coast',\n",
       " 'Cognitive Relections',\n",
       " 'Pliable Foe',\n",
       " 'Sent Forth From The Eye Of The Storm',\n",
       " 'Barrel-Aged Sparrow’s Fall',\n",
       " 'Barrel-aged Thorunn The Shield Maiden',\n",
       " 'Abject Terror',\n",
       " 'The Otter In The Rye',\n",
       " 'Lord Maris, The Otter ',\n",
       " 'NITRO Bitter Geezer ',\n",
       " 'NITRO Barrel-aged Nut Brown']"
      ]
     },
     "execution_count": 48,
     "metadata": {},
     "output_type": "execute_result"
    }
   ],
   "source": [
    "elderpine.beers"
   ]
  },
  {
   "cell_type": "code",
   "execution_count": 38,
   "id": "70b5ab18",
   "metadata": {},
   "outputs": [],
   "source": [
    "beer2 = pd.DataFrame(beer_df)"
   ]
  },
  {
   "cell_type": "code",
   "execution_count": 49,
   "id": "cbc7fd39",
   "metadata": {},
   "outputs": [],
   "source": [
    "driver.quit()"
   ]
  },
  {
   "cell_type": "code",
   "execution_count": 89,
   "id": "ac4d7f47",
   "metadata": {},
   "outputs": [
    {
     "data": {
      "text/plain": [
       "19"
      ]
     },
     "execution_count": 89,
     "metadata": {},
     "output_type": "execute_result"
    }
   ],
   "source": [
    "len(elderpine.beers)"
   ]
  },
  {
   "cell_type": "markdown",
   "id": "d2449db7",
   "metadata": {},
   "source": [
    "# Removing the first beer in the list"
   ]
  },
  {
   "cell_type": "markdown",
   "id": "5bdc8f36",
   "metadata": {},
   "source": [
    "## The page is using different tags for the first beer abv and style"
   ]
  },
  {
   "cell_type": "code",
   "execution_count": 90,
   "id": "3b438460",
   "metadata": {},
   "outputs": [],
   "source": [
    "beer_df = {'name':elderpine.beers[1:],\n",
    "                        \"style\":elderpine.style,\n",
    "              'abv': elderpine.abv,\n",
    "              }"
   ]
  },
  {
   "cell_type": "code",
   "execution_count": 91,
   "id": "eeb65d2e",
   "metadata": {},
   "outputs": [
    {
     "data": {
      "text/html": [
       "<div>\n",
       "<style scoped>\n",
       "    .dataframe tbody tr th:only-of-type {\n",
       "        vertical-align: middle;\n",
       "    }\n",
       "\n",
       "    .dataframe tbody tr th {\n",
       "        vertical-align: top;\n",
       "    }\n",
       "\n",
       "    .dataframe thead th {\n",
       "        text-align: right;\n",
       "    }\n",
       "</style>\n",
       "<table border=\"1\" class=\"dataframe\">\n",
       "  <thead>\n",
       "    <tr style=\"text-align: right;\">\n",
       "      <th></th>\n",
       "      <th>name</th>\n",
       "      <th>style</th>\n",
       "      <th>abv</th>\n",
       "    </tr>\n",
       "  </thead>\n",
       "  <tbody>\n",
       "    <tr>\n",
       "      <th>0</th>\n",
       "      <td>Rescue</td>\n",
       "      <td>German-style Pilsner</td>\n",
       "      <td>4.9</td>\n",
       "    </tr>\n",
       "    <tr>\n",
       "      <th>1</th>\n",
       "      <td>Empyreumatic</td>\n",
       "      <td>Smoked Helles Lager</td>\n",
       "      <td>5.5</td>\n",
       "    </tr>\n",
       "    <tr>\n",
       "      <th>2</th>\n",
       "      <td>Barrel-aged Imperator</td>\n",
       "      <td>Imperial Rauchbier</td>\n",
       "      <td>11.0</td>\n",
       "    </tr>\n",
       "    <tr>\n",
       "      <th>3</th>\n",
       "      <td>Continuous Refinement #2</td>\n",
       "      <td>West Coast IPA</td>\n",
       "      <td>6.2</td>\n",
       "    </tr>\n",
       "    <tr>\n",
       "      <th>4</th>\n",
       "      <td>Chin Chin!</td>\n",
       "      <td>Irish-style Extra Stout</td>\n",
       "      <td>7.0</td>\n",
       "    </tr>\n",
       "    <tr>\n",
       "      <th>5</th>\n",
       "      <td>Asleep on the West Coast</td>\n",
       "      <td>West Coast-style Double IPA</td>\n",
       "      <td>8.7</td>\n",
       "    </tr>\n",
       "    <tr>\n",
       "      <th>6</th>\n",
       "      <td>Dunkel Wood</td>\n",
       "      <td>Oak-aged Munich-style Dark Lager</td>\n",
       "      <td>5.2</td>\n",
       "    </tr>\n",
       "    <tr>\n",
       "      <th>7</th>\n",
       "      <td>In Sunshine &amp; In Shadow</td>\n",
       "      <td>Hazy Double IPA</td>\n",
       "      <td>8.0</td>\n",
       "    </tr>\n",
       "    <tr>\n",
       "      <th>8</th>\n",
       "      <td>Barrel-aged Gjaerkauk</td>\n",
       "      <td>Norwegian-style Smoked Amber Ale</td>\n",
       "      <td>7.2</td>\n",
       "    </tr>\n",
       "    <tr>\n",
       "      <th>9</th>\n",
       "      <td>Barrel-aged Praamzius, Ruler Of Time</td>\n",
       "      <td>Baltic Porter</td>\n",
       "      <td>10.5</td>\n",
       "    </tr>\n",
       "    <tr>\n",
       "      <th>10</th>\n",
       "      <td>Jupiter’s Cake</td>\n",
       "      <td>Imperial Breakfast Stout</td>\n",
       "      <td>11.0</td>\n",
       "    </tr>\n",
       "    <tr>\n",
       "      <th>11</th>\n",
       "      <td>Barrel-aged Thorunn The Shield Maiden</td>\n",
       "      <td>Norwegian-inspired Helles Bock Lager</td>\n",
       "      <td>8.0</td>\n",
       "    </tr>\n",
       "    <tr>\n",
       "      <th>12</th>\n",
       "      <td>Abject Terror</td>\n",
       "      <td>Oak-aged Barleywine-style Lager</td>\n",
       "      <td>12.0</td>\n",
       "    </tr>\n",
       "    <tr>\n",
       "      <th>13</th>\n",
       "      <td>Southern Hemisphere Haze</td>\n",
       "      <td>Hazy IPA</td>\n",
       "      <td>6.6</td>\n",
       "    </tr>\n",
       "    <tr>\n",
       "      <th>14</th>\n",
       "      <td>Proper Porter</td>\n",
       "      <td>Historic London-style Porter</td>\n",
       "      <td>5.8</td>\n",
       "    </tr>\n",
       "    <tr>\n",
       "      <th>15</th>\n",
       "      <td>Lord Maris, The Otter</td>\n",
       "      <td>Barrel-aged English-style Barleywine</td>\n",
       "      <td>15.7</td>\n",
       "    </tr>\n",
       "    <tr>\n",
       "      <th>16</th>\n",
       "      <td>NITRO Barrel-aged Nut Brown</td>\n",
       "      <td>English-style Nut Brown Ale</td>\n",
       "      <td>6.8</td>\n",
       "    </tr>\n",
       "    <tr>\n",
       "      <th>17</th>\n",
       "      <td>NITRO Bitter Geezer</td>\n",
       "      <td>English-style ESB</td>\n",
       "      <td>5.5</td>\n",
       "    </tr>\n",
       "  </tbody>\n",
       "</table>\n",
       "</div>"
      ],
      "text/plain": [
       "                                     name  \\\n",
       "0                                  Rescue   \n",
       "1                            Empyreumatic   \n",
       "2                   Barrel-aged Imperator   \n",
       "3                Continuous Refinement #2   \n",
       "4                              Chin Chin!   \n",
       "5                Asleep on the West Coast   \n",
       "6                             Dunkel Wood   \n",
       "7                 In Sunshine & In Shadow   \n",
       "8                   Barrel-aged Gjaerkauk   \n",
       "9    Barrel-aged Praamzius, Ruler Of Time   \n",
       "10                         Jupiter’s Cake   \n",
       "11  Barrel-aged Thorunn The Shield Maiden   \n",
       "12                          Abject Terror   \n",
       "13               Southern Hemisphere Haze   \n",
       "14                          Proper Porter   \n",
       "15                 Lord Maris, The Otter    \n",
       "16            NITRO Barrel-aged Nut Brown   \n",
       "17                   NITRO Bitter Geezer    \n",
       "\n",
       "                                   style   abv  \n",
       "0                   German-style Pilsner   4.9  \n",
       "1                    Smoked Helles Lager   5.5  \n",
       "2                     Imperial Rauchbier  11.0  \n",
       "3                         West Coast IPA   6.2  \n",
       "4                Irish-style Extra Stout   7.0  \n",
       "5            West Coast-style Double IPA   8.7  \n",
       "6       Oak-aged Munich-style Dark Lager   5.2  \n",
       "7                        Hazy Double IPA   8.0  \n",
       "8       Norwegian-style Smoked Amber Ale   7.2  \n",
       "9                          Baltic Porter  10.5  \n",
       "10              Imperial Breakfast Stout  11.0  \n",
       "11  Norwegian-inspired Helles Bock Lager   8.0  \n",
       "12       Oak-aged Barleywine-style Lager  12.0  \n",
       "13                              Hazy IPA   6.6  \n",
       "14          Historic London-style Porter   5.8  \n",
       "15  Barrel-aged English-style Barleywine  15.7  \n",
       "16           English-style Nut Brown Ale   6.8  \n",
       "17                     English-style ESB   5.5  "
      ]
     },
     "execution_count": 91,
     "metadata": {},
     "output_type": "execute_result"
    }
   ],
   "source": [
    "pd.DataFrame(beer_df)"
   ]
  },
  {
   "cell_type": "code",
   "execution_count": 85,
   "id": "27c64133",
   "metadata": {},
   "outputs": [
    {
     "name": "stdout",
     "output_type": "stream",
     "text": [
      "18\n",
      "18\n",
      "25\n"
     ]
    }
   ],
   "source": [
    "print(len(elderpine.abv)) \n",
    "print(len(elderpine.style))\n",
    "print(len(elderpine.beers))"
   ]
  },
  {
   "cell_type": "code",
   "execution_count": 86,
   "id": "594f1b83",
   "metadata": {},
   "outputs": [
    {
     "data": {
      "text/plain": [
       "['EP Pils',\n",
       " 'Rescue',\n",
       " 'Empyreumatic',\n",
       " 'Barrel-aged Imperator',\n",
       " 'Continuous Refinement #2',\n",
       " 'Chin Chin!',\n",
       " 'Asleep on the West Coast',\n",
       " 'Dunkel Wood',\n",
       " 'In Sunshine & In Shadow',\n",
       " 'Barrel-aged Gjaerkauk',\n",
       " 'Barrel-aged Praamzius, Ruler Of Time',\n",
       " 'Jupiter’s Cake',\n",
       " 'Barrel-aged Thorunn The Shield Maiden',\n",
       " 'Abject Terror',\n",
       " 'Southern Hemisphere Haze',\n",
       " 'Proper Porter',\n",
       " 'Lord Maris, The Otter ',\n",
       " ' ',\n",
       " 'NITRO Barrel-aged Nut Brown',\n",
       " ' ',\n",
       " 'NITRO Bitter Geezer ',\n",
       " 'COMING SOON!',\n",
       " 'Coming Soon!',\n",
       " 'Coming Soon!',\n",
       " 'Coming Soon!']"
      ]
     },
     "execution_count": 86,
     "metadata": {},
     "output_type": "execute_result"
    }
   ],
   "source": [
    "elderpine.beers"
   ]
  },
  {
   "cell_type": "code",
   "execution_count": 23,
   "id": "b3c36483",
   "metadata": {},
   "outputs": [],
   "source": [
    "styles = [col.text for col in driver.find_elements(By.XPATH,r\"//html//div[@class='row sqs-row']//p[@style='text-align:center;white-space:pre-wrap;']//em\")]"
   ]
  },
  {
   "cell_type": "code",
   "execution_count": 26,
   "id": "2c3f26cb",
   "metadata": {},
   "outputs": [],
   "source": [
    "# Only getting the 2nd beer onwards\n",
    "grouped_attr = [col.text for col in driver.find_elements(By.XPATH,\"//div[@class='sqs-html-content']//p[@style='text-align:center;white-space:pre-wrap;']//em\")]"
   ]
  },
  {
   "cell_type": "code",
   "execution_count": 75,
   "id": "75e96cf4",
   "metadata": {},
   "outputs": [
    {
     "name": "stdout",
     "output_type": "stream",
     "text": [
      "no match\n"
     ]
    }
   ],
   "source": [
    "if not re.search(\"ABV\",grouped_attr[0]):\n",
    "    print(\"no match\")\n",
    "else:\n",
    "    print('found a match')"
   ]
  },
  {
   "cell_type": "code",
   "execution_count": 44,
   "id": "0a003a1f",
   "metadata": {},
   "outputs": [],
   "source": [
    "elderpine.abv = [clean_abv(row) for row in grouped_attr if row.__contains__(\" ABV\")]\n",
    "elderpine.style = [row.strip() for row in grouped_attr if re.findall(\"^[a-zA-Z]+\",row)\n",
    "                   and row.lower() != \"inside bar only\"]\n"
   ]
  },
  {
   "cell_type": "code",
   "execution_count": 69,
   "id": "f7e28fb8",
   "metadata": {},
   "outputs": [],
   "source": [
    "assert len(elderpine.abv) == len(elderpine.style)"
   ]
  },
  {
   "cell_type": "code",
   "execution_count": 76,
   "id": "c10ac7e9",
   "metadata": {},
   "outputs": [],
   "source": [
    "assert len(elderpine.name) == len(elderpine.style)"
   ]
  },
  {
   "cell_type": "code",
   "execution_count": null,
   "id": "f94aca9c",
   "metadata": {},
   "outputs": [],
   "source": []
  },
  {
   "cell_type": "markdown",
   "id": "e63468e4",
   "metadata": {},
   "source": [
    "# Other Half Brewing"
   ]
  },
  {
   "cell_type": "code",
   "execution_count": 92,
   "id": "70e259b6",
   "metadata": {},
   "outputs": [],
   "source": [
    "otherhalf = Brewery('Other Half Brewing', \"https://otherhalfbrewing.com/our-beers\")\n",
    "driver.get(otherhalf.url)\n",
    "button = driver.find_element(By.XPATH, '//button[@id=\"age-gate-pass\"]')\n",
    "button.click()"
   ]
  },
  {
   "cell_type": "code",
   "execution_count": 39,
   "id": "2cdeabfe",
   "metadata": {},
   "outputs": [],
   "source": [
    "driver.maximize_window()"
   ]
  },
  {
   "cell_type": "code",
   "execution_count": 94,
   "id": "6a439b08",
   "metadata": {},
   "outputs": [],
   "source": [
    "driver.quit()"
   ]
  },
  {
   "cell_type": "markdown",
   "id": "30b9875e",
   "metadata": {},
   "source": [
    "# Falling Branch Brewing"
   ]
  },
  {
   "cell_type": "markdown",
   "id": "d5e8ad4b",
   "metadata": {},
   "source": []
  }
 ],
 "metadata": {
  "kernelspec": {
   "display_name": "Python 3",
   "language": "python",
   "name": "python3"
  },
  "language_info": {
   "codemirror_mode": {
    "name": "ipython",
    "version": 3
   },
   "file_extension": ".py",
   "mimetype": "text/x-python",
   "name": "python",
   "nbconvert_exporter": "python",
   "pygments_lexer": "ipython3",
   "version": "3.10.11"
  }
 },
 "nbformat": 4,
 "nbformat_minor": 5
}
