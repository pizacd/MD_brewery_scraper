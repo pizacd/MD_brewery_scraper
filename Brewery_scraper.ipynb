{
 "cells": [
  {
   "cell_type": "markdown",
   "id": "44ba9d26",
   "metadata": {},
   "source": [
    "# Import Libraries"
   ]
  },
  {
   "cell_type": "code",
   "execution_count": 8,
   "id": "e0c3c4a7",
   "metadata": {},
   "outputs": [],
   "source": [
    "#import all required libraries\n",
    "from decimal import Decimal\n",
    "from io import BytesIO\n",
    "import json\n",
    "import logging\n",
    "import os\n",
    "from pprint import pprint\n",
    "import requests\n",
    "from zipfile import ZipFile\n",
    "from boto3.dynamodb.conditions import Key\n",
    "from botocore.exceptions import ClientError\n",
    "from configparser import ConfigParser\n",
    "from selenium import webdriver\n",
    "from selenium.webdriver.chrome.options import Options as ChromeOptions\n",
    "from selenium.webdriver.chrome.service import Service as ChromeService\n",
    "from selenium.webdriver.common.by import By\n",
    "from selenium.webdriver.support.ui import WebDriverWait\n",
    "from selenium.webdriver.support import expected_conditions as EC\n",
    "from webdriver_manager.chrome import ChromeDriverManager\n",
    "import time\n",
    "import csv\n",
    "from datetime import date\n",
    "import pandas as pd\n",
    "import re\n"
   ]
  },
  {
   "cell_type": "code",
   "execution_count": 2,
   "id": "0de6df0a",
   "metadata": {},
   "outputs": [],
   "source": [
    "from src.beer_functions import Beers"
   ]
  },
  {
   "cell_type": "code",
   "execution_count": 10,
   "id": "72693066",
   "metadata": {},
   "outputs": [],
   "source": [
    "import boto3\n",
    "session = boto3.Session(profile_name='ds1')\n",
    "dyn_resource = session.resource(\"dynamodb\")\n",
    "table = dyn_resource.Table('md-brewery')"
   ]
  },
  {
   "cell_type": "code",
   "execution_count": 51,
   "id": "226726e2",
   "metadata": {},
   "outputs": [],
   "source": [
    "table = dyn_resource.create_table(TableName = 'md-brewery',\n",
    "                              KeySchema=[\n",
    "                    {\"AttributeName\": \"scraping_date\", \"KeyType\": \"HASH\"},  # Partition key\n",
    "                    {\"AttributeName\": \"beer_name\", \"KeyType\": \"RANGE\"},  # Sort key\n",
    "                ],\n",
    "                AttributeDefinitions=[\n",
    "                    {\"AttributeName\": \"scraping_date\", \"AttributeType\": \"S\"},\n",
    "                    {\"AttributeName\": \"beer_name\", \"AttributeType\": \"S\"},\n",
    "                ],\n",
    "                ProvisionedThroughput={\n",
    "                    \"ReadCapacityUnits\": 5,\n",
    "                    \"WriteCapacityUnits\": 5,\n",
    "                },)\n",
    "table.wait_until_exists()"
   ]
  },
  {
   "cell_type": "code",
   "execution_count": 3,
   "id": "a3a5a596",
   "metadata": {},
   "outputs": [],
   "source": [
    "import json\n",
    "with open(\"beer_xpaths.json\") as file:\n",
    "    test = json.load(file)"
   ]
  },
  {
   "cell_type": "code",
   "execution_count": 4,
   "id": "811d7125",
   "metadata": {},
   "outputs": [
    {
     "name": "stdout",
     "output_type": "stream",
     "text": [
      "cushwa\n",
      "blackflag\n"
     ]
    }
   ],
   "source": [
    "for key in test.keys():\n",
    "    print(key)"
   ]
  },
  {
   "cell_type": "code",
   "execution_count": 5,
   "id": "c7010f93",
   "metadata": {},
   "outputs": [
    {
     "data": {
      "text/plain": [
       "{'beers': {'xpath': \"//html//div[@class='item']//h4//span[@id]\"},\n",
       " 'style': {'xpath': \"//html//div[@class='item']//h4//span[@class='item-category']\"},\n",
       " 'description': {'xpath': \"//html//div[@class='item']//p[@class='link-font-color show-less item-title-color']\"},\n",
       " 'abv': {'classname': 'item-abv'},\n",
       " 'brewery': {'classname': 'brewery'}}"
      ]
     },
     "execution_count": 5,
     "metadata": {},
     "output_type": "execute_result"
    }
   ],
   "source": [
    "test['cushwa']"
   ]
  },
  {
   "cell_type": "code",
   "execution_count": 15,
   "id": "41103baa",
   "metadata": {},
   "outputs": [],
   "source": [
    "def scrape_info(scraping_method: str, scraping_path: str) ->list:\n",
    "    \"\"\"returns the text of a webpage using the argument scraping_method for\n",
    "    path scraping_path\"\"\"\n",
    "    if scraping_method.lower().startswith('class'):\n",
    "        try:\n",
    "            text = [col.text for col in driver.find_elements(By.CLASS_NAME,\n",
    "                                                             scraping_path)]\n",
    "        except ValueError:\n",
    "            pass\n",
    "    elif scraping_method.lower().startswith(\"xpath\"):\n",
    "        try:\n",
    "            text = [col.text for col in driver.find_elements(By.XPATH,\n",
    "                                                             scraping_path)]\n",
    "        except ValueError:\n",
    "            pass\n",
    "    return text\n",
    "    \n",
    "    # [col.text for col in driver.find_elements(By.CLASS_NAME,'item-abv')]\n",
    "    # pass"
   ]
  },
  {
   "cell_type": "code",
   "execution_count": 25,
   "id": "5b1f6629",
   "metadata": {},
   "outputs": [],
   "source": [
    "for key, val in test['cushwa']['beers'].items():\n",
    "    result = scrape_info(key,val)"
   ]
  },
  {
   "cell_type": "code",
   "execution_count": 29,
   "id": "c79e24db",
   "metadata": {},
   "outputs": [
    {
     "name": "stdout",
     "output_type": "stream",
     "text": [
      "beers\n",
      "style\n",
      "description\n",
      "abv\n",
      "brewery\n"
     ]
    }
   ],
   "source": [
    "for key in test[\"cushwa\"].keys():\n",
    "    print(key)"
   ]
  },
  {
   "cell_type": "code",
   "execution_count": null,
   "id": "f1644378",
   "metadata": {},
   "outputs": [],
   "source": [
    "scrape_info"
   ]
  },
  {
   "cell_type": "code",
   "execution_count": 11,
   "id": "8da11bdc",
   "metadata": {},
   "outputs": [
    {
     "name": "stdout",
     "output_type": "stream",
     "text": [
      "md-brewery\n"
     ]
    }
   ],
   "source": [
    "for table in dyn_resource.tables.all():\n",
    "                print(table.name)"
   ]
  },
  {
   "cell_type": "code",
   "execution_count": 12,
   "id": "46c5e15d",
   "metadata": {},
   "outputs": [],
   "source": [
    "# Chromedriver located in /usr/local/bin\n",
    "\n",
    "\n",
    "#Add User agent to scrape the site\n",
    "driver = webdriver.Chrome()\n",
    "# service = ChromeService(executable_path=ChromeDriverManager())\n",
    "# opts = ChromeOptions()\n",
    "\n",
    "\n",
    "# opts.add_argument((\"user-agent=Mozilla/5.0\"\n",
    "#                    +\" (Macintosh; Intel Mac OS X 14_2_1)\"\n",
    "#                    +\" AppleWebKit/537.36 (KHTML, like Gecko)\"\n",
    "#                    +\" Chrome/121.0.6167.85 Safari/537.36\"))\n",
    "\n",
    "TODAY = (f\"{date.today().month}/\"\n",
    "         +f\"{date.today().day}/\"\n",
    "         +f\"{date.today().year}\")"
   ]
  },
  {
   "cell_type": "markdown",
   "id": "0aaf241d",
   "metadata": {},
   "source": [
    "# Create Class for brewery scraping"
   ]
  },
  {
   "cell_type": "code",
   "execution_count": 13,
   "id": "86935265",
   "metadata": {},
   "outputs": [],
   "source": [
    "class Brewery:\n",
    "    def __init__(self,name,url):\n",
    "        self.name = name\n",
    "        self.url = url\n",
    "    def __str__(self):\n",
    "        return self.name\n",
    "    def __repr__(self):\n",
    "        return f\"Brewery({self.name}, {self.url})\"\n",
    "cushwa = Brewery('Cushwa Brewing', \"https://cushwabrewing.com/columbia\")\n",
    "driver.get(cushwa.url)\n",
    "# button = driver.find_element(By.NAME, 'overAge')\n",
    "# button.click()"
   ]
  },
  {
   "cell_type": "code",
   "execution_count": 23,
   "id": "aded4307",
   "metadata": {},
   "outputs": [],
   "source": [
    "driver.quit()"
   ]
  },
  {
   "cell_type": "code",
   "execution_count": 30,
   "id": "eeb5df76",
   "metadata": {},
   "outputs": [],
   "source": [
    "def authenticate_age(scraping_path: str):\n",
    "    button = driver.find_element(By.NAME, scraping_path)\n",
    "    return button.click()\n"
   ]
  },
  {
   "cell_type": "code",
   "execution_count": 31,
   "id": "b821259d",
   "metadata": {},
   "outputs": [],
   "source": [
    "authenticate_age(\"overAge\")"
   ]
  },
  {
   "cell_type": "code",
   "execution_count": 7,
   "id": "7b39eb83",
   "metadata": {},
   "outputs": [
    {
     "data": {
      "text/plain": [
       "Brewery(Cushwa Brewing, https://cushwabrewing.com/columbia)"
      ]
     },
     "execution_count": 7,
     "metadata": {},
     "output_type": "execute_result"
    }
   ],
   "source": [
    "cushwa"
   ]
  },
  {
   "cell_type": "code",
   "execution_count": null,
   "id": "0686c448",
   "metadata": {},
   "outputs": [],
   "source": [
    "cushwa.abv = [col.text for col in driver.find_elements(By.CLASS_NAME,'item-abv')]\n",
    "cushwa.brewery = [col.text for col in driver.find_elements(By.CLASS_NAME,'brewery')]\n",
    "cushwa.beers = [col.text for col in driver.find_elements(By.XPATH,\"//html//div[@class='item']//h4//span[@id]\")]\n",
    "cushwa.style = [col.text for col in driver.find_elements(By.XPATH,\"//html//div[@class='item']//h4//span[@class='item-category']\")]\n",
    "descrips = [col.text for col in driver.find_elements(By.XPATH,\n",
    "                                                     \"//html//div[@class='item']//p[@class='link-font-color show-less item-title-color']\")]"
   ]
  },
  {
   "cell_type": "code",
   "execution_count": 36,
   "id": "72ada8cb",
   "metadata": {},
   "outputs": [
    {
     "data": {
      "text/plain": [
       "['Lager - Mexican',\n",
       " 'Maibock',\n",
       " 'Lager - Dortmunder',\n",
       " 'Lager - American Light',\n",
       " 'Lager - American Light',\n",
       " 'Lager - American Light',\n",
       " 'Kölsch',\n",
       " 'Pilsner - Other',\n",
       " 'Red Ale - Irish',\n",
       " 'Witbier',\n",
       " 'Brown Ale - English',\n",
       " 'Porter - Baltic',\n",
       " 'Stout - Irish Dry',\n",
       " 'Pale Ale - New England',\n",
       " 'IPA - New England',\n",
       " 'IPA - Double New England / Hazy',\n",
       " 'Pale Ale - American',\n",
       " 'IPA - American',\n",
       " 'IPA - American',\n",
       " 'IPA - New England',\n",
       " 'IPA - American',\n",
       " 'IPA - Imperial',\n",
       " 'IPA - New England',\n",
       " 'IPA - Imperial',\n",
       " 'IPA - Imperial',\n",
       " 'IPA - Imperial',\n",
       " 'IPA - Imperial',\n",
       " 'IPA - Imperial',\n",
       " 'IPA - American',\n",
       " 'IPA - Imperial',\n",
       " 'IPA - Imperial',\n",
       " 'Sour - Smoothie',\n",
       " 'Sour - Smoothie',\n",
       " 'Farmhouse Ale - Grisette',\n",
       " 'Farmhouse Ale - Grisette',\n",
       " 'Dry Hopped Sour',\n",
       " 'Cider - Other Fruit',\n",
       " 'Prickly Pear & Guava Hard Seltzer',\n",
       " 'Non-Alcoholic Beer - IPA']"
      ]
     },
     "execution_count": 36,
     "metadata": {},
     "output_type": "execute_result"
    }
   ],
   "source": [
    "cushwa.style"
   ]
  },
  {
   "cell_type": "code",
   "execution_count": 20,
   "id": "6d54142b",
   "metadata": {},
   "outputs": [],
   "source": [
    "driver.quit()"
   ]
  },
  {
   "cell_type": "code",
   "execution_count": 37,
   "id": "96baef53",
   "metadata": {},
   "outputs": [],
   "source": [
    "def clean_abv(raw_abv: str)-> str:\n",
    "    abv_final = re.match(pattern = \"[0-9]+[.]*[0-9]*\",\n",
    "                               string = raw_abv).group(0)\n",
    "    return abv_final"
   ]
  },
  {
   "cell_type": "code",
   "execution_count": 39,
   "id": "21bfea1b",
   "metadata": {},
   "outputs": [],
   "source": [
    "assert len(descrips) == len(cushwa.beers)"
   ]
  },
  {
   "cell_type": "code",
   "execution_count": 40,
   "id": "f88379fc",
   "metadata": {},
   "outputs": [],
   "source": [
    "beer_dict= {\n",
    "            'name':cushwa.beers,\n",
    "                        \"style\":cushwa.style,\n",
    "              'abv': [clean_abv(abv) for abv in cushwa.abv],\n",
    "              'maker':cushwa.brewery,\n",
    "              'description': descrips}"
   ]
  },
  {
   "cell_type": "code",
   "execution_count": 41,
   "id": "790a9915",
   "metadata": {},
   "outputs": [],
   "source": [
    "beer_dict[\"scraping_date\"] = date.today().strftime(\"%m/%d/%Y\")"
   ]
  },
  {
   "cell_type": "code",
   "execution_count": 42,
   "id": "205fcde3",
   "metadata": {},
   "outputs": [
    {
     "data": {
      "text/plain": [
       "'05/08/2024'"
      ]
     },
     "execution_count": 42,
     "metadata": {},
     "output_type": "execute_result"
    }
   ],
   "source": [
    "date.today().strftime(\"%m/%d/%Y\")"
   ]
  },
  {
   "cell_type": "markdown",
   "id": "b72e05cc",
   "metadata": {},
   "source": [
    "## Write each item to dynamodb table"
   ]
  },
  {
   "cell_type": "code",
   "execution_count": 43,
   "id": "043f5ccd",
   "metadata": {},
   "outputs": [],
   "source": [
    "with table.batch_writer() as writer:\n",
    "    for num in range(len(beer_dict['name'])):\n",
    "        writer.put_item(Item={\n",
    "        \"scraping_date\": beer_dict[\"scraping_date\"],\n",
    "        \"brewery\": beer_dict[\"maker\"][num],\n",
    "        \"beer_name\": beer_dict[\"name\"][num],\n",
    "        \"style\": beer_dict[\"style\"][num],\n",
    "        \"abv\": Decimal(str(beer_dict[\"abv\"][num])),\n",
    "        \"description\": beer_dict[\"description\"][num]\n",
    "        }\n",
    "        )\n"
   ]
  },
  {
   "cell_type": "code",
   "execution_count": 64,
   "id": "301d97e1",
   "metadata": {},
   "outputs": [],
   "source": [
    "for num in range(len(beer_dict['name'])):\n",
    "    table.put_item(\n",
    "                Item={\n",
    "                    \"scraping_date\": beer_dict[\"scraping_date\"],\n",
    "                    \"brewery\": beer_dict[\"maker\"][num],\n",
    "                    \"beer_name\": beer_dict[\"name\"][num],\n",
    "                    \"style\": beer_dict[\"style\"][num],\n",
    "                    \"abv\": Decimal(str(beer_dict[\"abv\"][num])),\n",
    "                    \"description\": beer_dict[\"description\"][num]\n",
    "                    }\n",
    "            )"
   ]
  },
  {
   "cell_type": "markdown",
   "id": "ef3c68a4",
   "metadata": {},
   "source": [
    "# Elder Pine"
   ]
  },
  {
   "cell_type": "code",
   "execution_count": 44,
   "id": "1d93fb38",
   "metadata": {},
   "outputs": [],
   "source": [
    "driver.get(\"https://elderpine.com/tasting-room\")"
   ]
  },
  {
   "cell_type": "code",
   "execution_count": 45,
   "id": "56569adb",
   "metadata": {},
   "outputs": [
    {
     "data": {
      "text/plain": [
       "['EP Pils',\n",
       " 'Classic Pilsner',\n",
       " '5% ABV',\n",
       " 'Dunkel Wood',\n",
       " 'Oak-aged Munich-style Dark Lager ',\n",
       " '5.2% ABV',\n",
       " 'Dense Brume',\n",
       " 'Hazy IPA',\n",
       " '7% ABV',\n",
       " 'The Midnight Sun',\n",
       " 'Barrel-aged Dark Sour Ale',\n",
       " '9% ABV',\n",
       " 'The Slender Sun Receding',\n",
       " 'Barrel-aged Sour Citrus Ale',\n",
       " '7% ABV',\n",
       " 'Lemon Lime Reflections',\n",
       " 'Fruited Belgian-style Witbier',\n",
       " '5% ABV',\n",
       " 'Asleep on the West Coast',\n",
       " 'West Coast-style Double IPA',\n",
       " '8.7% ABV',\n",
       " 'Cognitive Relections',\n",
       " 'Classic Belgian-style Witbier',\n",
       " '5% ABV',\n",
       " 'COMING SOON',\n",
       " 'COMING SOON',\n",
       " 'COMING SOON',\n",
       " 'Pliable Foe',\n",
       " 'Coffee Dark Mild',\n",
       " '3.8% ABV',\n",
       " 'Sent Forth From The Eye Of The Storm',\n",
       " '',\n",
       " 'Barrel-aged Boysenberry Sour Ale',\n",
       " '8% ABV',\n",
       " 'Barrel-Aged Sparrow’s Fall',\n",
       " 'Vienna-style Lager',\n",
       " '5% ABV',\n",
       " 'Barrel-aged Thorunn The Shield Maiden',\n",
       " 'Inside Bar Only',\n",
       " 'Norwegian-inspired Helles Bock Lager',\n",
       " '8% ABV',\n",
       " 'Abject Terror',\n",
       " 'Inside Bar Only',\n",
       " 'Oak-aged Barleywine-style Lager ',\n",
       " '12% ABV',\n",
       " 'The Otter In The Rye',\n",
       " 'Barrel-aged Ryewine',\n",
       " '13% ABV',\n",
       " 'Lord Maris, The Otter ',\n",
       " 'Inside Bar Only',\n",
       " ' Barrel-aged English-style Barleywine',\n",
       " '15.7% ABV',\n",
       " 'NITRO Bitter Geezer ',\n",
       " 'Inside Bar Only',\n",
       " 'English-style ESB',\n",
       " '5.5% ABV',\n",
       " 'NITRO Barrel-aged Nut Brown',\n",
       " ' Inside Bar Only',\n",
       " 'English-style Nut Brown Ale',\n",
       " '6.8% ABV',\n",
       " 'COMING SOON',\n",
       " 'COMING SOON',\n",
       " 'COMING SOON']"
      ]
     },
     "execution_count": 45,
     "metadata": {},
     "output_type": "execute_result"
    }
   ],
   "source": [
    "[col.text for col in driver.find_elements(By.XPATH,\"//html//div[@class='row sqs-row']//p[@style='text-align:center;white-space:pre-wrap;']\")]"
   ]
  },
  {
   "cell_type": "code",
   "execution_count": 46,
   "id": "c504cb37",
   "metadata": {},
   "outputs": [],
   "source": [
    "elderpine = Brewery(\"Elder Pine Brewing\", url = \"https://elderpine.com/tasting-room\")"
   ]
  },
  {
   "cell_type": "code",
   "execution_count": 47,
   "id": "56019c27",
   "metadata": {},
   "outputs": [],
   "source": [
    "elderpine.beers = [col.text for col in driver.find_elements(By.XPATH,\"//div[@class='sqs-html-content']/p[contains(@style,'text')]/strong\")\n",
    "                   if re.search(\"[a-zA-Z]+\", col.text) and not col.text.lower().startswith('coming soon')]"
   ]
  },
  {
   "cell_type": "code",
   "execution_count": 48,
   "id": "711ca369",
   "metadata": {},
   "outputs": [
    {
     "data": {
      "text/plain": [
       "['EP Pils',\n",
       " 'Dunkel Wood',\n",
       " 'Dense Brume',\n",
       " 'The Midnight Sun',\n",
       " 'The Slender Sun Receding',\n",
       " 'Lemon Lime Reflections',\n",
       " 'Asleep on the West Coast',\n",
       " 'Cognitive Relections',\n",
       " 'Pliable Foe',\n",
       " 'Sent Forth From The Eye Of The Storm',\n",
       " 'Barrel-Aged Sparrow’s Fall',\n",
       " 'Barrel-aged Thorunn The Shield Maiden',\n",
       " 'Abject Terror',\n",
       " 'The Otter In The Rye',\n",
       " 'Lord Maris, The Otter ',\n",
       " 'NITRO Bitter Geezer ',\n",
       " 'NITRO Barrel-aged Nut Brown']"
      ]
     },
     "execution_count": 48,
     "metadata": {},
     "output_type": "execute_result"
    }
   ],
   "source": [
    "elderpine.beers"
   ]
  },
  {
   "cell_type": "code",
   "execution_count": 38,
   "id": "70b5ab18",
   "metadata": {},
   "outputs": [],
   "source": [
    "beer2 = pd.DataFrame(beer_df)"
   ]
  },
  {
   "cell_type": "code",
   "execution_count": 49,
   "id": "cbc7fd39",
   "metadata": {},
   "outputs": [],
   "source": [
    "driver.quit()"
   ]
  },
  {
   "cell_type": "code",
   "execution_count": 89,
   "id": "ac4d7f47",
   "metadata": {},
   "outputs": [
    {
     "data": {
      "text/plain": [
       "19"
      ]
     },
     "execution_count": 89,
     "metadata": {},
     "output_type": "execute_result"
    }
   ],
   "source": [
    "len(elderpine.beers)"
   ]
  },
  {
   "cell_type": "markdown",
   "id": "d2449db7",
   "metadata": {},
   "source": [
    "# Removing the first beer in the list"
   ]
  },
  {
   "cell_type": "markdown",
   "id": "5bdc8f36",
   "metadata": {},
   "source": [
    "## The page is using different tags for the first beer abv and style"
   ]
  },
  {
   "cell_type": "code",
   "execution_count": 90,
   "id": "3b438460",
   "metadata": {},
   "outputs": [],
   "source": [
    "beer_df = {'name':elderpine.beers[1:],\n",
    "                        \"style\":elderpine.style,\n",
    "              'abv': elderpine.abv,\n",
    "              }"
   ]
  },
  {
   "cell_type": "code",
   "execution_count": 91,
   "id": "eeb65d2e",
   "metadata": {},
   "outputs": [
    {
     "data": {
      "text/html": [
       "<div>\n",
       "<style scoped>\n",
       "    .dataframe tbody tr th:only-of-type {\n",
       "        vertical-align: middle;\n",
       "    }\n",
       "\n",
       "    .dataframe tbody tr th {\n",
       "        vertical-align: top;\n",
       "    }\n",
       "\n",
       "    .dataframe thead th {\n",
       "        text-align: right;\n",
       "    }\n",
       "</style>\n",
       "<table border=\"1\" class=\"dataframe\">\n",
       "  <thead>\n",
       "    <tr style=\"text-align: right;\">\n",
       "      <th></th>\n",
       "      <th>name</th>\n",
       "      <th>style</th>\n",
       "      <th>abv</th>\n",
       "    </tr>\n",
       "  </thead>\n",
       "  <tbody>\n",
       "    <tr>\n",
       "      <th>0</th>\n",
       "      <td>Rescue</td>\n",
       "      <td>German-style Pilsner</td>\n",
       "      <td>4.9</td>\n",
       "    </tr>\n",
       "    <tr>\n",
       "      <th>1</th>\n",
       "      <td>Empyreumatic</td>\n",
       "      <td>Smoked Helles Lager</td>\n",
       "      <td>5.5</td>\n",
       "    </tr>\n",
       "    <tr>\n",
       "      <th>2</th>\n",
       "      <td>Barrel-aged Imperator</td>\n",
       "      <td>Imperial Rauchbier</td>\n",
       "      <td>11.0</td>\n",
       "    </tr>\n",
       "    <tr>\n",
       "      <th>3</th>\n",
       "      <td>Continuous Refinement #2</td>\n",
       "      <td>West Coast IPA</td>\n",
       "      <td>6.2</td>\n",
       "    </tr>\n",
       "    <tr>\n",
       "      <th>4</th>\n",
       "      <td>Chin Chin!</td>\n",
       "      <td>Irish-style Extra Stout</td>\n",
       "      <td>7.0</td>\n",
       "    </tr>\n",
       "    <tr>\n",
       "      <th>5</th>\n",
       "      <td>Asleep on the West Coast</td>\n",
       "      <td>West Coast-style Double IPA</td>\n",
       "      <td>8.7</td>\n",
       "    </tr>\n",
       "    <tr>\n",
       "      <th>6</th>\n",
       "      <td>Dunkel Wood</td>\n",
       "      <td>Oak-aged Munich-style Dark Lager</td>\n",
       "      <td>5.2</td>\n",
       "    </tr>\n",
       "    <tr>\n",
       "      <th>7</th>\n",
       "      <td>In Sunshine &amp; In Shadow</td>\n",
       "      <td>Hazy Double IPA</td>\n",
       "      <td>8.0</td>\n",
       "    </tr>\n",
       "    <tr>\n",
       "      <th>8</th>\n",
       "      <td>Barrel-aged Gjaerkauk</td>\n",
       "      <td>Norwegian-style Smoked Amber Ale</td>\n",
       "      <td>7.2</td>\n",
       "    </tr>\n",
       "    <tr>\n",
       "      <th>9</th>\n",
       "      <td>Barrel-aged Praamzius, Ruler Of Time</td>\n",
       "      <td>Baltic Porter</td>\n",
       "      <td>10.5</td>\n",
       "    </tr>\n",
       "    <tr>\n",
       "      <th>10</th>\n",
       "      <td>Jupiter’s Cake</td>\n",
       "      <td>Imperial Breakfast Stout</td>\n",
       "      <td>11.0</td>\n",
       "    </tr>\n",
       "    <tr>\n",
       "      <th>11</th>\n",
       "      <td>Barrel-aged Thorunn The Shield Maiden</td>\n",
       "      <td>Norwegian-inspired Helles Bock Lager</td>\n",
       "      <td>8.0</td>\n",
       "    </tr>\n",
       "    <tr>\n",
       "      <th>12</th>\n",
       "      <td>Abject Terror</td>\n",
       "      <td>Oak-aged Barleywine-style Lager</td>\n",
       "      <td>12.0</td>\n",
       "    </tr>\n",
       "    <tr>\n",
       "      <th>13</th>\n",
       "      <td>Southern Hemisphere Haze</td>\n",
       "      <td>Hazy IPA</td>\n",
       "      <td>6.6</td>\n",
       "    </tr>\n",
       "    <tr>\n",
       "      <th>14</th>\n",
       "      <td>Proper Porter</td>\n",
       "      <td>Historic London-style Porter</td>\n",
       "      <td>5.8</td>\n",
       "    </tr>\n",
       "    <tr>\n",
       "      <th>15</th>\n",
       "      <td>Lord Maris, The Otter</td>\n",
       "      <td>Barrel-aged English-style Barleywine</td>\n",
       "      <td>15.7</td>\n",
       "    </tr>\n",
       "    <tr>\n",
       "      <th>16</th>\n",
       "      <td>NITRO Barrel-aged Nut Brown</td>\n",
       "      <td>English-style Nut Brown Ale</td>\n",
       "      <td>6.8</td>\n",
       "    </tr>\n",
       "    <tr>\n",
       "      <th>17</th>\n",
       "      <td>NITRO Bitter Geezer</td>\n",
       "      <td>English-style ESB</td>\n",
       "      <td>5.5</td>\n",
       "    </tr>\n",
       "  </tbody>\n",
       "</table>\n",
       "</div>"
      ],
      "text/plain": [
       "                                     name  \\\n",
       "0                                  Rescue   \n",
       "1                            Empyreumatic   \n",
       "2                   Barrel-aged Imperator   \n",
       "3                Continuous Refinement #2   \n",
       "4                              Chin Chin!   \n",
       "5                Asleep on the West Coast   \n",
       "6                             Dunkel Wood   \n",
       "7                 In Sunshine & In Shadow   \n",
       "8                   Barrel-aged Gjaerkauk   \n",
       "9    Barrel-aged Praamzius, Ruler Of Time   \n",
       "10                         Jupiter’s Cake   \n",
       "11  Barrel-aged Thorunn The Shield Maiden   \n",
       "12                          Abject Terror   \n",
       "13               Southern Hemisphere Haze   \n",
       "14                          Proper Porter   \n",
       "15                 Lord Maris, The Otter    \n",
       "16            NITRO Barrel-aged Nut Brown   \n",
       "17                   NITRO Bitter Geezer    \n",
       "\n",
       "                                   style   abv  \n",
       "0                   German-style Pilsner   4.9  \n",
       "1                    Smoked Helles Lager   5.5  \n",
       "2                     Imperial Rauchbier  11.0  \n",
       "3                         West Coast IPA   6.2  \n",
       "4                Irish-style Extra Stout   7.0  \n",
       "5            West Coast-style Double IPA   8.7  \n",
       "6       Oak-aged Munich-style Dark Lager   5.2  \n",
       "7                        Hazy Double IPA   8.0  \n",
       "8       Norwegian-style Smoked Amber Ale   7.2  \n",
       "9                          Baltic Porter  10.5  \n",
       "10              Imperial Breakfast Stout  11.0  \n",
       "11  Norwegian-inspired Helles Bock Lager   8.0  \n",
       "12       Oak-aged Barleywine-style Lager  12.0  \n",
       "13                              Hazy IPA   6.6  \n",
       "14          Historic London-style Porter   5.8  \n",
       "15  Barrel-aged English-style Barleywine  15.7  \n",
       "16           English-style Nut Brown Ale   6.8  \n",
       "17                     English-style ESB   5.5  "
      ]
     },
     "execution_count": 91,
     "metadata": {},
     "output_type": "execute_result"
    }
   ],
   "source": [
    "pd.DataFrame(beer_df)"
   ]
  },
  {
   "cell_type": "code",
   "execution_count": 85,
   "id": "27c64133",
   "metadata": {},
   "outputs": [
    {
     "name": "stdout",
     "output_type": "stream",
     "text": [
      "18\n",
      "18\n",
      "25\n"
     ]
    }
   ],
   "source": [
    "print(len(elderpine.abv)) \n",
    "print(len(elderpine.style))\n",
    "print(len(elderpine.beers))"
   ]
  },
  {
   "cell_type": "code",
   "execution_count": 86,
   "id": "594f1b83",
   "metadata": {},
   "outputs": [
    {
     "data": {
      "text/plain": [
       "['EP Pils',\n",
       " 'Rescue',\n",
       " 'Empyreumatic',\n",
       " 'Barrel-aged Imperator',\n",
       " 'Continuous Refinement #2',\n",
       " 'Chin Chin!',\n",
       " 'Asleep on the West Coast',\n",
       " 'Dunkel Wood',\n",
       " 'In Sunshine & In Shadow',\n",
       " 'Barrel-aged Gjaerkauk',\n",
       " 'Barrel-aged Praamzius, Ruler Of Time',\n",
       " 'Jupiter’s Cake',\n",
       " 'Barrel-aged Thorunn The Shield Maiden',\n",
       " 'Abject Terror',\n",
       " 'Southern Hemisphere Haze',\n",
       " 'Proper Porter',\n",
       " 'Lord Maris, The Otter ',\n",
       " ' ',\n",
       " 'NITRO Barrel-aged Nut Brown',\n",
       " ' ',\n",
       " 'NITRO Bitter Geezer ',\n",
       " 'COMING SOON!',\n",
       " 'Coming Soon!',\n",
       " 'Coming Soon!',\n",
       " 'Coming Soon!']"
      ]
     },
     "execution_count": 86,
     "metadata": {},
     "output_type": "execute_result"
    }
   ],
   "source": [
    "elderpine.beers"
   ]
  },
  {
   "cell_type": "code",
   "execution_count": 23,
   "id": "b3c36483",
   "metadata": {},
   "outputs": [],
   "source": [
    "styles = [col.text for col in driver.find_elements(By.XPATH,r\"//html//div[@class='row sqs-row']//p[@style='text-align:center;white-space:pre-wrap;']//em\")]"
   ]
  },
  {
   "cell_type": "code",
   "execution_count": 26,
   "id": "2c3f26cb",
   "metadata": {},
   "outputs": [],
   "source": [
    "# Only getting the 2nd beer onwards\n",
    "grouped_attr = [col.text for col in driver.find_elements(By.XPATH,\"//div[@class='sqs-html-content']//p[@style='text-align:center;white-space:pre-wrap;']//em\")]"
   ]
  },
  {
   "cell_type": "code",
   "execution_count": 75,
   "id": "75e96cf4",
   "metadata": {},
   "outputs": [
    {
     "name": "stdout",
     "output_type": "stream",
     "text": [
      "no match\n"
     ]
    }
   ],
   "source": [
    "if not re.search(\"ABV\",grouped_attr[0]):\n",
    "    print(\"no match\")\n",
    "else:\n",
    "    print('found a match')"
   ]
  },
  {
   "cell_type": "code",
   "execution_count": 44,
   "id": "0a003a1f",
   "metadata": {},
   "outputs": [],
   "source": [
    "elderpine.abv = [clean_abv(row) for row in grouped_attr if row.__contains__(\" ABV\")]\n",
    "elderpine.style = [row.strip() for row in grouped_attr if re.findall(\"^[a-zA-Z]+\",row)\n",
    "                   and row.lower() != \"inside bar only\"]\n"
   ]
  },
  {
   "cell_type": "code",
   "execution_count": 69,
   "id": "f7e28fb8",
   "metadata": {},
   "outputs": [],
   "source": [
    "assert len(elderpine.abv) == len(elderpine.style)"
   ]
  },
  {
   "cell_type": "code",
   "execution_count": 76,
   "id": "c10ac7e9",
   "metadata": {},
   "outputs": [],
   "source": [
    "assert len(elderpine.name) == len(elderpine.style)"
   ]
  },
  {
   "cell_type": "code",
   "execution_count": null,
   "id": "f94aca9c",
   "metadata": {},
   "outputs": [],
   "source": []
  },
  {
   "cell_type": "markdown",
   "id": "e63468e4",
   "metadata": {},
   "source": [
    "# Other Half Brewing"
   ]
  },
  {
   "cell_type": "code",
   "execution_count": 92,
   "id": "70e259b6",
   "metadata": {},
   "outputs": [],
   "source": [
    "otherhalf = Brewery('Other Half Brewing', \"https://otherhalfbrewing.com/our-beers\")\n",
    "driver.get(otherhalf.url)\n",
    "button = driver.find_element(By.XPATH, '//button[@id=\"age-gate-pass\"]')\n",
    "button.click()"
   ]
  },
  {
   "cell_type": "code",
   "execution_count": 39,
   "id": "2cdeabfe",
   "metadata": {},
   "outputs": [],
   "source": [
    "driver.maximize_window()"
   ]
  },
  {
   "cell_type": "code",
   "execution_count": 94,
   "id": "6a439b08",
   "metadata": {},
   "outputs": [],
   "source": [
    "driver.quit()"
   ]
  },
  {
   "cell_type": "markdown",
   "id": "30b9875e",
   "metadata": {},
   "source": [
    "# Falling Branch Brewing"
   ]
  },
  {
   "cell_type": "markdown",
   "id": "d5e8ad4b",
   "metadata": {},
   "source": []
  }
 ],
 "metadata": {
  "kernelspec": {
   "display_name": "Python 3",
   "language": "python",
   "name": "python3"
  },
  "language_info": {
   "codemirror_mode": {
    "name": "ipython",
    "version": 3
   },
   "file_extension": ".py",
   "mimetype": "text/x-python",
   "name": "python",
   "nbconvert_exporter": "python",
   "pygments_lexer": "ipython3",
   "version": "3.10.11"
  }
 },
 "nbformat": 4,
 "nbformat_minor": 5
}
