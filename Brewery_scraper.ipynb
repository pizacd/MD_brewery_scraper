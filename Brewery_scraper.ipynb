{
 "cells": [
  {
   "cell_type": "markdown",
   "id": "44ba9d26",
   "metadata": {},
   "source": [
    "# Import Libraries"
   ]
  },
  {
   "cell_type": "code",
   "execution_count": 1,
   "id": "e0c3c4a7",
   "metadata": {},
   "outputs": [],
   "source": [
    "#import all required libraries\n",
    "from decimal import Decimal\n",
    "from io import BytesIO\n",
    "import json\n",
    "import logging\n",
    "import os\n",
    "from pprint import pprint\n",
    "import requests\n",
    "from zipfile import ZipFile\n",
    "from boto3.dynamodb.conditions import Key\n",
    "from boto3 import Session\n",
    "from botocore.exceptions import ClientError\n",
    "from configparser import ConfigParser\n",
    "from selenium import webdriver\n",
    "from selenium.webdriver.chrome.options import Options as ChromeOptions\n",
    "from selenium.webdriver.chrome.service import Service as ChromeService\n",
    "from selenium.webdriver.common.by import By\n",
    "from selenium.webdriver.support.ui import WebDriverWait\n",
    "from selenium.webdriver.support import expected_conditions as EC\n",
    "from webdriver_manager.chrome import ChromeDriverManager\n",
    "from selenium.webdriver.support.ui import WebDriverWait\n",
    "from selenium.webdriver.support import expected_conditions as EC\n",
    "import time\n",
    "import csv\n",
    "from datetime import date\n",
    "import pandas as pd\n",
    "import re\n",
    "\n",
    "\n",
    "from src.beer_functions import Beers"
   ]
  },
  {
   "cell_type": "code",
   "execution_count": 2,
   "id": "72693066",
   "metadata": {},
   "outputs": [],
   "source": [
    "session = Session(profile_name='ds1')\n",
    "dyn_resource = session.resource(\"dynamodb\")\n",
    "table = dyn_resource.Table('md-brewery')"
   ]
  },
  {
   "cell_type": "code",
   "execution_count": 51,
   "id": "226726e2",
   "metadata": {},
   "outputs": [],
   "source": [
    "table = dyn_resource.create_table(TableName = 'md-brewery',\n",
    "                              KeySchema=[\n",
    "                    {\"AttributeName\": \"scraping_date\", \"KeyType\": \"HASH\"},  # Partition key\n",
    "                    {\"AttributeName\": \"beer_name\", \"KeyType\": \"RANGE\"},  # Sort key\n",
    "                ],\n",
    "                AttributeDefinitions=[\n",
    "                    {\"AttributeName\": \"scraping_date\", \"AttributeType\": \"S\"},\n",
    "                    {\"AttributeName\": \"beer_name\", \"AttributeType\": \"S\"},\n",
    "                ],\n",
    "                ProvisionedThroughput={\n",
    "                    \"ReadCapacityUnits\": 5,\n",
    "                    \"WriteCapacityUnits\": 5,\n",
    "                },)\n",
    "table.wait_until_exists()"
   ]
  },
  {
   "cell_type": "code",
   "execution_count": null,
   "id": "a3a5a596",
   "metadata": {},
   "outputs": [],
   "source": [
    "with open(\"beer_xpaths.json\") as file:\n",
    "    beer_json: dict = json.load(file)\n",
    "with open(\"site_access.json\") as file:\n",
    "    access_dict: dict = json.load(file)"
   ]
  },
  {
   "cell_type": "markdown",
   "id": "8b8ae5f7",
   "metadata": {},
   "source": [
    "## Functions"
   ]
  },
  {
   "cell_type": "code",
   "execution_count": null,
   "id": "7137001c",
   "metadata": {},
   "outputs": [],
   "source": [
    "def authenticate_age(driver: webdriver.chrome.webdriver.WebDriver,\n",
    "                     attribute_dict: dict):\n",
    "    assert len(attribute_dict.items())==1\n",
    "    scraping_method = list(attribute_dict.keys())[0]\n",
    "    scraping_path = list(attribute_dict.values())[0]\n",
    "    if scraping_method.lower() == \"class_name\":\n",
    "        try:\n",
    "            button = driver.find_element(By.CLASS_NAME, scraping_path)\n",
    "            return button.click()\n",
    "        except ValueError:\n",
    "            pass\n",
    "    elif scraping_method.lower() == \"xpath\":\n",
    "        try:\n",
    "            button = driver.find_element(By.XPATH, scraping_path)\n",
    "            return button.click()\n",
    "        except ValueError:\n",
    "            pass\n",
    "    elif scraping_method.lower() ==\"name\":\n",
    "        try:\n",
    "            button = driver.find_element(By.NAME, scraping_path)\n",
    "            return button.click()\n",
    "        except ValueError:\n",
    "            pass"
   ]
  },
  {
   "cell_type": "code",
   "execution_count": null,
   "id": "6a4da077",
   "metadata": {},
   "outputs": [],
   "source": [
    "def extract_text(driver: webdriver.chrome.webdriver.WebDriver,\n",
    "                attribute_dict: dict) ->list:\n",
    "    \"\"\"returns the text of a webpage using the argument scraping_method for\n",
    "    path scraping_path\"\"\"\n",
    "    assert len(attribute_dict.items())==1\n",
    "    scraping_method = list(attribute_dict.keys())[0]\n",
    "    scraping_path = list(attribute_dict.values())[0]\n",
    "    if scraping_method.lower() == 'class_name':\n",
    "        try:\n",
    "            elements = WebDriverWait(driver,\n",
    "                                     10).until(\n",
    "                                         EC.presence_of_all_elements_located(\n",
    "                                             (\n",
    "                                                 By.CLASS_NAME,\n",
    "                                                 scraping_path\n",
    "                                                 )\n",
    "                                              )\n",
    "        )\n",
    "            text = [ele.text for ele in elements]\n",
    "            return text\n",
    "        except ValueError:\n",
    "            pass\n",
    "    if scraping_method.lower() == 'name':\n",
    "        try:\n",
    "            elements = WebDriverWait(driver,\n",
    "                                     10).until(\n",
    "                                         EC.presence_of_all_elements_located(\n",
    "                                             (\n",
    "                                                 By.NAME,\n",
    "                                                 scraping_path\n",
    "                                                 )\n",
    "                                              )\n",
    "        )\n",
    "            text = [ele.text for ele in elements]\n",
    "            return text\n",
    "        except ValueError:\n",
    "            pass\n",
    "    elif scraping_method.lower() == \"xpath\":\n",
    "        try:\n",
    "            elements = WebDriverWait(driver,\n",
    "                                     10).until(\n",
    "                                         EC.presence_of_all_elements_located(\n",
    "                                             (\n",
    "                                                 By.XPATH,\n",
    "                                                 scraping_path\n",
    "                                                 )\n",
    "                                              )\n",
    "        )\n",
    "            text = [ele.text for ele in elements]\n",
    "            return text\n",
    "        except ValueError:\n",
    "            pass\n",
    "    # else:\n",
    "    #     raise ValueError(\"Invalid method. Use 'xpath' or 'tag_name'.\")\n",
    "    \n",
    "    # [col.text for col in driver.find_elements(By.CLASS_NAME,'item-abv')]\n",
    "    # pass"
   ]
  },
  {
   "cell_type": "code",
   "execution_count": 72,
   "id": "ae4c0857",
   "metadata": {},
   "outputs": [],
   "source": [
    "class Brewery:\n",
    "    def __init__(self,site_info: dict,beer_info: dict):\n",
    "        self.site_info = site_info\n",
    "        self.beer_info = beer_info\n",
    "    def __str__(self):\n",
    "        return self.name\n",
    "    def __repr__(self):\n",
    "        return f\"Brewery({self.name}, {self.url})\""
   ]
  },
  {
   "cell_type": "markdown",
   "id": "7497a86d",
   "metadata": {},
   "source": [
    "## First Brewery"
   ]
  },
  {
   "cell_type": "code",
   "execution_count": 73,
   "id": "5a7d1908",
   "metadata": {},
   "outputs": [],
   "source": [
    "cushwa = Brewery(site_info = access_dict['cushwa'],\n",
    "                 beer_info = beer_json[\"cushwa\"])"
   ]
  },
  {
   "cell_type": "code",
   "execution_count": 75,
   "id": "bdd0564c",
   "metadata": {},
   "outputs": [
    {
     "data": {
      "text/plain": [
       "{'url': 'https://cushwabrewing.com/columbia',\n",
       " 'authentication': {'name': 'overAge'}}"
      ]
     },
     "execution_count": 75,
     "metadata": {},
     "output_type": "execute_result"
    }
   ],
   "source": [
    "cushwa.site_info"
   ]
  },
  {
   "cell_type": "code",
   "execution_count": 76,
   "id": "c9c89ea0",
   "metadata": {},
   "outputs": [
    {
     "data": {
      "text/plain": [
       "{'name': 'overAge'}"
      ]
     },
     "execution_count": 76,
     "metadata": {},
     "output_type": "execute_result"
    }
   ],
   "source": [
    "cushwa.site_info[\"authentication\"]"
   ]
  },
  {
   "cell_type": "code",
   "execution_count": null,
   "id": "961a3d3d",
   "metadata": {},
   "outputs": [],
   "source": [
    "authenticate_age(cushwa.site_info[\"authentication\"])"
   ]
  },
  {
   "cell_type": "code",
   "execution_count": 87,
   "id": "29b93bc3",
   "metadata": {},
   "outputs": [],
   "source": [
    "\n"
   ]
  },
  {
   "cell_type": "code",
   "execution_count": 106,
   "id": "37206188",
   "metadata": {},
   "outputs": [],
   "source": [
    "driver = webdriver.Chrome()"
   ]
  },
  {
   "cell_type": "code",
   "execution_count": 107,
   "id": "6d9432e5",
   "metadata": {},
   "outputs": [],
   "source": [
    "driver.get(cushwa.site_info[\"url\"])"
   ]
  },
  {
   "cell_type": "code",
   "execution_count": 65,
   "id": "2b720f79",
   "metadata": {},
   "outputs": [],
   "source": [
    "beer_keys = access_dict.keys()"
   ]
  },
  {
   "cell_type": "code",
   "execution_count": 108,
   "id": "ef93ba82",
   "metadata": {},
   "outputs": [],
   "source": [
    "authenticate_age(driver,cushwa.site_info[\"authentication\"])"
   ]
  },
  {
   "cell_type": "markdown",
   "id": "ea7cf1a0",
   "metadata": {},
   "source": [
    "<p>I want a function that assigns to a class, checks authentication, all of that</p>"
   ]
  },
  {
   "cell_type": "code",
   "execution_count": 61,
   "id": "d2939fb7",
   "metadata": {},
   "outputs": [
    {
     "name": "stdout",
     "output_type": "stream",
     "text": [
      "cushwa\n",
      "blackflag\n"
     ]
    }
   ],
   "source": [
    "for key in access_dict.keys():\n",
    "    if key in beer_json.keys():\n",
    "        print(key)\n",
    "    else:\n",
    "        print(f\"{key} not present\")"
   ]
  },
  {
   "cell_type": "code",
   "execution_count": 134,
   "id": "1559c859",
   "metadata": {},
   "outputs": [],
   "source": [
    "driver.quit()"
   ]
  },
  {
   "cell_type": "code",
   "execution_count": 103,
   "id": "86a4a4d1",
   "metadata": {},
   "outputs": [],
   "source": [
    "def clean_abv(raw_abv: str)-> str:\n",
    "    abv_final = re.match(pattern = \"[0-9]+[.]*[0-9]*\",\n",
    "                               string = raw_abv).group(0)\n",
    "    return abv_final"
   ]
  },
  {
   "cell_type": "code",
   "execution_count": 21,
   "id": "8da11bdc",
   "metadata": {},
   "outputs": [
    {
     "name": "stdout",
     "output_type": "stream",
     "text": [
      "md-brewery\n"
     ]
    }
   ],
   "source": [
    "for table in dyn_resource.tables.all():\n",
    "                print(table.name)"
   ]
  },
  {
   "cell_type": "code",
   "execution_count": 10,
   "id": "46c5e15d",
   "metadata": {},
   "outputs": [],
   "source": [
    "# Chromedriver located in /usr/local/bin\n",
    "\n",
    "driver = webdriver.Chrome()"
   ]
  },
  {
   "cell_type": "code",
   "execution_count": 109,
   "id": "ad033a96",
   "metadata": {},
   "outputs": [],
   "source": [
    "beer_dict = dict()\n",
    "for key in beer_json['cushwa'].keys():\n",
    "    if key.lower() != 'abv':\n",
    "        beer_dict[key] = extract_text(driver, beer_json['cushwa'][key])\n",
    "    else:\n",
    "        beer_dict[key] = [clean_abv(abv) \\\n",
    "                          for abv in extract_text(driver, beer_json['cushwa'][key])]\n",
    "\n",
    "beer_dict[\"scraping_date\"] = date.today().strftime(\"%m/%d/%Y\")"
   ]
  },
  {
   "cell_type": "code",
   "execution_count": 111,
   "id": "8e80800f",
   "metadata": {},
   "outputs": [],
   "source": [
    "driver.quit()"
   ]
  },
  {
   "cell_type": "code",
   "execution_count": 110,
   "id": "f4dbeb09",
   "metadata": {},
   "outputs": [
    {
     "data": {
      "text/html": [
       "<div>\n",
       "<style scoped>\n",
       "    .dataframe tbody tr th:only-of-type {\n",
       "        vertical-align: middle;\n",
       "    }\n",
       "\n",
       "    .dataframe tbody tr th {\n",
       "        vertical-align: top;\n",
       "    }\n",
       "\n",
       "    .dataframe thead th {\n",
       "        text-align: right;\n",
       "    }\n",
       "</style>\n",
       "<table border=\"1\" class=\"dataframe\">\n",
       "  <thead>\n",
       "    <tr style=\"text-align: right;\">\n",
       "      <th></th>\n",
       "      <th>beers</th>\n",
       "      <th>style</th>\n",
       "      <th>description</th>\n",
       "      <th>abv</th>\n",
       "      <th>brewery</th>\n",
       "      <th>scraping_date</th>\n",
       "    </tr>\n",
       "  </thead>\n",
       "  <tbody>\n",
       "    <tr>\n",
       "      <th>0</th>\n",
       "      <td>X Marks the Spot</td>\n",
       "      <td>Lager - Mexican</td>\n",
       "      <td>This Mexican Style Amber pours a beautiful lig...</td>\n",
       "      <td>5.4</td>\n",
       "      <td>Cushwa Brewing Co.</td>\n",
       "      <td>05/17/2024</td>\n",
       "    </tr>\n",
       "    <tr>\n",
       "      <th>1</th>\n",
       "      <td>Mai the 4th Be With You</td>\n",
       "      <td>Maibock</td>\n",
       "      <td>Maibock, a pale, malt driven lager. With notes...</td>\n",
       "      <td>6.7</td>\n",
       "      <td>Cushwa Brewing Co.</td>\n",
       "      <td>05/17/2024</td>\n",
       "    </tr>\n",
       "    <tr>\n",
       "      <th>2</th>\n",
       "      <td>Rad Beer</td>\n",
       "      <td>Lager - American Light</td>\n",
       "      <td>When you have a pizza as good as the World Cha...</td>\n",
       "      <td>4.8</td>\n",
       "      <td>Cushwa Brewing Co.</td>\n",
       "      <td>05/17/2024</td>\n",
       "    </tr>\n",
       "    <tr>\n",
       "      <th>3</th>\n",
       "      <td>That'll Play</td>\n",
       "      <td>Lager - American Light</td>\n",
       "      <td>Sky’s out limes out. That’ll Play is a clean, ...</td>\n",
       "      <td>4.2</td>\n",
       "      <td>Cushwa Brewing Co.</td>\n",
       "      <td>05/17/2024</td>\n",
       "    </tr>\n",
       "    <tr>\n",
       "      <th>4</th>\n",
       "      <td>That’ll Play Masters Edition</td>\n",
       "      <td>Lager - American Light</td>\n",
       "      <td>We took our That’ll Play lager and gave it the...</td>\n",
       "      <td>4.2</td>\n",
       "      <td>Cushwa Brewing Co.</td>\n",
       "      <td>05/17/2024</td>\n",
       "    </tr>\n",
       "    <tr>\n",
       "      <th>5</th>\n",
       "      <td>Kolschwa</td>\n",
       "      <td>Kölsch</td>\n",
       "      <td>Brewed traditionally to the German style</td>\n",
       "      <td>5</td>\n",
       "      <td>Cushwa Brewing Co.</td>\n",
       "      <td>05/17/2024</td>\n",
       "    </tr>\n",
       "    <tr>\n",
       "      <th>6</th>\n",
       "      <td>Pura Pils</td>\n",
       "      <td>Pilsner - Other</td>\n",
       "      <td>An all-day crusher, packed full of flavor that...</td>\n",
       "      <td>5.5</td>\n",
       "      <td>Cushwa Brewing Co.</td>\n",
       "      <td>05/17/2024</td>\n",
       "    </tr>\n",
       "    <tr>\n",
       "      <th>7</th>\n",
       "      <td>Going Bridge</td>\n",
       "      <td>Red Ale - Irish</td>\n",
       "      <td>Predominantly Irish malt, and is fermented wit...</td>\n",
       "      <td>4.8</td>\n",
       "      <td>Cushwa Brewing Co.</td>\n",
       "      <td>05/17/2024</td>\n",
       "    </tr>\n",
       "  </tbody>\n",
       "</table>\n",
       "</div>"
      ],
      "text/plain": [
       "                          beers                   style  \\\n",
       "0              X Marks the Spot         Lager - Mexican   \n",
       "1       Mai the 4th Be With You                 Maibock   \n",
       "2                      Rad Beer  Lager - American Light   \n",
       "3                  That'll Play  Lager - American Light   \n",
       "4  That’ll Play Masters Edition  Lager - American Light   \n",
       "5                      Kolschwa                  Kölsch   \n",
       "6                     Pura Pils         Pilsner - Other   \n",
       "7                  Going Bridge         Red Ale - Irish   \n",
       "\n",
       "                                         description  abv             brewery  \\\n",
       "0  This Mexican Style Amber pours a beautiful lig...  5.4  Cushwa Brewing Co.   \n",
       "1  Maibock, a pale, malt driven lager. With notes...  6.7  Cushwa Brewing Co.   \n",
       "2  When you have a pizza as good as the World Cha...  4.8  Cushwa Brewing Co.   \n",
       "3  Sky’s out limes out. That’ll Play is a clean, ...  4.2  Cushwa Brewing Co.   \n",
       "4  We took our That’ll Play lager and gave it the...  4.2  Cushwa Brewing Co.   \n",
       "5           Brewed traditionally to the German style    5  Cushwa Brewing Co.   \n",
       "6  An all-day crusher, packed full of flavor that...  5.5  Cushwa Brewing Co.   \n",
       "7  Predominantly Irish malt, and is fermented wit...  4.8  Cushwa Brewing Co.   \n",
       "\n",
       "  scraping_date  \n",
       "0    05/17/2024  \n",
       "1    05/17/2024  \n",
       "2    05/17/2024  \n",
       "3    05/17/2024  \n",
       "4    05/17/2024  \n",
       "5    05/17/2024  \n",
       "6    05/17/2024  \n",
       "7    05/17/2024  "
      ]
     },
     "execution_count": 110,
     "metadata": {},
     "output_type": "execute_result"
    }
   ],
   "source": [
    "pd.DataFrame(beer_dict).head(8)"
   ]
  },
  {
   "cell_type": "code",
   "execution_count": 20,
   "id": "6d54142b",
   "metadata": {},
   "outputs": [],
   "source": [
    "driver.quit()"
   ]
  },
  {
   "cell_type": "markdown",
   "id": "b72e05cc",
   "metadata": {},
   "source": [
    "## Write each item to dynamodb table"
   ]
  },
  {
   "cell_type": "code",
   "execution_count": 18,
   "id": "043f5ccd",
   "metadata": {},
   "outputs": [],
   "source": [
    "with table.batch_writer() as writer:\n",
    "    for num in range(len(beer_dict['beers'])):\n",
    "        writer.put_item(Item={\n",
    "        \"scraping_date\": beer_dict[\"scraping_date\"],\n",
    "        \"brewery\": beer_dict[\"brewery\"][num],\n",
    "        \"beer_name\": beer_dict[\"beers\"][num],\n",
    "        \"style\": beer_dict[\"style\"][num],\n",
    "        \"abv\": Decimal(beer_dict[\"abv\"][num]),\n",
    "        \"description\": beer_dict[\"description\"][num]\n",
    "        }\n",
    "        )\n"
   ]
  },
  {
   "cell_type": "code",
   "execution_count": 64,
   "id": "301d97e1",
   "metadata": {},
   "outputs": [],
   "source": [
    "for num in range(len(beer_dict['name'])):\n",
    "    table.put_item(\n",
    "                Item={\n",
    "                    \"scraping_date\": beer_dict[\"scraping_date\"],\n",
    "                    \"brewery\": beer_dict[\"maker\"][num],\n",
    "                    \"beer_name\": beer_dict[\"name\"][num],\n",
    "                    \"style\": beer_dict[\"style\"][num],\n",
    "                    \"abv\": Decimal(str(beer_dict[\"abv\"][num])),\n",
    "                    \"description\": beer_dict[\"description\"][num]\n",
    "                    }\n",
    "            )"
   ]
  },
  {
   "cell_type": "markdown",
   "id": "ef3c68a4",
   "metadata": {},
   "source": [
    "# Elder Pine"
   ]
  },
  {
   "cell_type": "code",
   "execution_count": 44,
   "id": "1d93fb38",
   "metadata": {},
   "outputs": [],
   "source": [
    "driver.get(\"https://elderpine.com/tasting-room\")"
   ]
  },
  {
   "cell_type": "code",
   "execution_count": 45,
   "id": "56569adb",
   "metadata": {},
   "outputs": [
    {
     "data": {
      "text/plain": [
       "['EP Pils',\n",
       " 'Classic Pilsner',\n",
       " '5% ABV',\n",
       " 'Dunkel Wood',\n",
       " 'Oak-aged Munich-style Dark Lager ',\n",
       " '5.2% ABV',\n",
       " 'Dense Brume',\n",
       " 'Hazy IPA',\n",
       " '7% ABV',\n",
       " 'The Midnight Sun',\n",
       " 'Barrel-aged Dark Sour Ale',\n",
       " '9% ABV',\n",
       " 'The Slender Sun Receding',\n",
       " 'Barrel-aged Sour Citrus Ale',\n",
       " '7% ABV',\n",
       " 'Lemon Lime Reflections',\n",
       " 'Fruited Belgian-style Witbier',\n",
       " '5% ABV',\n",
       " 'Asleep on the West Coast',\n",
       " 'West Coast-style Double IPA',\n",
       " '8.7% ABV',\n",
       " 'Cognitive Relections',\n",
       " 'Classic Belgian-style Witbier',\n",
       " '5% ABV',\n",
       " 'COMING SOON',\n",
       " 'COMING SOON',\n",
       " 'COMING SOON',\n",
       " 'Pliable Foe',\n",
       " 'Coffee Dark Mild',\n",
       " '3.8% ABV',\n",
       " 'Sent Forth From The Eye Of The Storm',\n",
       " '',\n",
       " 'Barrel-aged Boysenberry Sour Ale',\n",
       " '8% ABV',\n",
       " 'Barrel-Aged Sparrow’s Fall',\n",
       " 'Vienna-style Lager',\n",
       " '5% ABV',\n",
       " 'Barrel-aged Thorunn The Shield Maiden',\n",
       " 'Inside Bar Only',\n",
       " 'Norwegian-inspired Helles Bock Lager',\n",
       " '8% ABV',\n",
       " 'Abject Terror',\n",
       " 'Inside Bar Only',\n",
       " 'Oak-aged Barleywine-style Lager ',\n",
       " '12% ABV',\n",
       " 'The Otter In The Rye',\n",
       " 'Barrel-aged Ryewine',\n",
       " '13% ABV',\n",
       " 'Lord Maris, The Otter ',\n",
       " 'Inside Bar Only',\n",
       " ' Barrel-aged English-style Barleywine',\n",
       " '15.7% ABV',\n",
       " 'NITRO Bitter Geezer ',\n",
       " 'Inside Bar Only',\n",
       " 'English-style ESB',\n",
       " '5.5% ABV',\n",
       " 'NITRO Barrel-aged Nut Brown',\n",
       " ' Inside Bar Only',\n",
       " 'English-style Nut Brown Ale',\n",
       " '6.8% ABV',\n",
       " 'COMING SOON',\n",
       " 'COMING SOON',\n",
       " 'COMING SOON']"
      ]
     },
     "execution_count": 45,
     "metadata": {},
     "output_type": "execute_result"
    }
   ],
   "source": [
    "[col.text for col in driver.find_elements(By.XPATH,\"//html//div[@class='row sqs-row']//p[@style='text-align:center;white-space:pre-wrap;']\")]"
   ]
  },
  {
   "cell_type": "code",
   "execution_count": 46,
   "id": "c504cb37",
   "metadata": {},
   "outputs": [],
   "source": [
    "elderpine = Brewery(\"Elder Pine Brewing\", url = \"https://elderpine.com/tasting-room\")"
   ]
  },
  {
   "cell_type": "code",
   "execution_count": 47,
   "id": "56019c27",
   "metadata": {},
   "outputs": [],
   "source": [
    "elderpine.beers = [col.text for col in driver.find_elements(By.XPATH,\"//div[@class='sqs-html-content']/p[contains(@style,'text')]/strong\")\n",
    "                   if re.search(\"[a-zA-Z]+\", col.text) and not col.text.lower().startswith('coming soon')]"
   ]
  },
  {
   "cell_type": "code",
   "execution_count": 48,
   "id": "711ca369",
   "metadata": {},
   "outputs": [
    {
     "data": {
      "text/plain": [
       "['EP Pils',\n",
       " 'Dunkel Wood',\n",
       " 'Dense Brume',\n",
       " 'The Midnight Sun',\n",
       " 'The Slender Sun Receding',\n",
       " 'Lemon Lime Reflections',\n",
       " 'Asleep on the West Coast',\n",
       " 'Cognitive Relections',\n",
       " 'Pliable Foe',\n",
       " 'Sent Forth From The Eye Of The Storm',\n",
       " 'Barrel-Aged Sparrow’s Fall',\n",
       " 'Barrel-aged Thorunn The Shield Maiden',\n",
       " 'Abject Terror',\n",
       " 'The Otter In The Rye',\n",
       " 'Lord Maris, The Otter ',\n",
       " 'NITRO Bitter Geezer ',\n",
       " 'NITRO Barrel-aged Nut Brown']"
      ]
     },
     "execution_count": 48,
     "metadata": {},
     "output_type": "execute_result"
    }
   ],
   "source": [
    "elderpine.beers"
   ]
  },
  {
   "cell_type": "code",
   "execution_count": 38,
   "id": "70b5ab18",
   "metadata": {},
   "outputs": [],
   "source": [
    "beer2 = pd.DataFrame(beer_df)"
   ]
  },
  {
   "cell_type": "code",
   "execution_count": 49,
   "id": "cbc7fd39",
   "metadata": {},
   "outputs": [],
   "source": [
    "driver.quit()"
   ]
  },
  {
   "cell_type": "code",
   "execution_count": 89,
   "id": "ac4d7f47",
   "metadata": {},
   "outputs": [
    {
     "data": {
      "text/plain": [
       "19"
      ]
     },
     "execution_count": 89,
     "metadata": {},
     "output_type": "execute_result"
    }
   ],
   "source": [
    "len(elderpine.beers)"
   ]
  },
  {
   "cell_type": "markdown",
   "id": "d2449db7",
   "metadata": {},
   "source": [
    "# Removing the first beer in the list"
   ]
  },
  {
   "cell_type": "markdown",
   "id": "5bdc8f36",
   "metadata": {},
   "source": [
    "## The page is using different tags for the first beer abv and style"
   ]
  },
  {
   "cell_type": "code",
   "execution_count": 90,
   "id": "3b438460",
   "metadata": {},
   "outputs": [],
   "source": [
    "beer_df = {'name':elderpine.beers[1:],\n",
    "                        \"style\":elderpine.style,\n",
    "              'abv': elderpine.abv,\n",
    "              }"
   ]
  },
  {
   "cell_type": "code",
   "execution_count": 91,
   "id": "eeb65d2e",
   "metadata": {},
   "outputs": [
    {
     "data": {
      "text/html": [
       "<div>\n",
       "<style scoped>\n",
       "    .dataframe tbody tr th:only-of-type {\n",
       "        vertical-align: middle;\n",
       "    }\n",
       "\n",
       "    .dataframe tbody tr th {\n",
       "        vertical-align: top;\n",
       "    }\n",
       "\n",
       "    .dataframe thead th {\n",
       "        text-align: right;\n",
       "    }\n",
       "</style>\n",
       "<table border=\"1\" class=\"dataframe\">\n",
       "  <thead>\n",
       "    <tr style=\"text-align: right;\">\n",
       "      <th></th>\n",
       "      <th>name</th>\n",
       "      <th>style</th>\n",
       "      <th>abv</th>\n",
       "    </tr>\n",
       "  </thead>\n",
       "  <tbody>\n",
       "    <tr>\n",
       "      <th>0</th>\n",
       "      <td>Rescue</td>\n",
       "      <td>German-style Pilsner</td>\n",
       "      <td>4.9</td>\n",
       "    </tr>\n",
       "    <tr>\n",
       "      <th>1</th>\n",
       "      <td>Empyreumatic</td>\n",
       "      <td>Smoked Helles Lager</td>\n",
       "      <td>5.5</td>\n",
       "    </tr>\n",
       "    <tr>\n",
       "      <th>2</th>\n",
       "      <td>Barrel-aged Imperator</td>\n",
       "      <td>Imperial Rauchbier</td>\n",
       "      <td>11.0</td>\n",
       "    </tr>\n",
       "    <tr>\n",
       "      <th>3</th>\n",
       "      <td>Continuous Refinement #2</td>\n",
       "      <td>West Coast IPA</td>\n",
       "      <td>6.2</td>\n",
       "    </tr>\n",
       "    <tr>\n",
       "      <th>4</th>\n",
       "      <td>Chin Chin!</td>\n",
       "      <td>Irish-style Extra Stout</td>\n",
       "      <td>7.0</td>\n",
       "    </tr>\n",
       "    <tr>\n",
       "      <th>5</th>\n",
       "      <td>Asleep on the West Coast</td>\n",
       "      <td>West Coast-style Double IPA</td>\n",
       "      <td>8.7</td>\n",
       "    </tr>\n",
       "    <tr>\n",
       "      <th>6</th>\n",
       "      <td>Dunkel Wood</td>\n",
       "      <td>Oak-aged Munich-style Dark Lager</td>\n",
       "      <td>5.2</td>\n",
       "    </tr>\n",
       "    <tr>\n",
       "      <th>7</th>\n",
       "      <td>In Sunshine &amp; In Shadow</td>\n",
       "      <td>Hazy Double IPA</td>\n",
       "      <td>8.0</td>\n",
       "    </tr>\n",
       "    <tr>\n",
       "      <th>8</th>\n",
       "      <td>Barrel-aged Gjaerkauk</td>\n",
       "      <td>Norwegian-style Smoked Amber Ale</td>\n",
       "      <td>7.2</td>\n",
       "    </tr>\n",
       "    <tr>\n",
       "      <th>9</th>\n",
       "      <td>Barrel-aged Praamzius, Ruler Of Time</td>\n",
       "      <td>Baltic Porter</td>\n",
       "      <td>10.5</td>\n",
       "    </tr>\n",
       "    <tr>\n",
       "      <th>10</th>\n",
       "      <td>Jupiter’s Cake</td>\n",
       "      <td>Imperial Breakfast Stout</td>\n",
       "      <td>11.0</td>\n",
       "    </tr>\n",
       "    <tr>\n",
       "      <th>11</th>\n",
       "      <td>Barrel-aged Thorunn The Shield Maiden</td>\n",
       "      <td>Norwegian-inspired Helles Bock Lager</td>\n",
       "      <td>8.0</td>\n",
       "    </tr>\n",
       "    <tr>\n",
       "      <th>12</th>\n",
       "      <td>Abject Terror</td>\n",
       "      <td>Oak-aged Barleywine-style Lager</td>\n",
       "      <td>12.0</td>\n",
       "    </tr>\n",
       "    <tr>\n",
       "      <th>13</th>\n",
       "      <td>Southern Hemisphere Haze</td>\n",
       "      <td>Hazy IPA</td>\n",
       "      <td>6.6</td>\n",
       "    </tr>\n",
       "    <tr>\n",
       "      <th>14</th>\n",
       "      <td>Proper Porter</td>\n",
       "      <td>Historic London-style Porter</td>\n",
       "      <td>5.8</td>\n",
       "    </tr>\n",
       "    <tr>\n",
       "      <th>15</th>\n",
       "      <td>Lord Maris, The Otter</td>\n",
       "      <td>Barrel-aged English-style Barleywine</td>\n",
       "      <td>15.7</td>\n",
       "    </tr>\n",
       "    <tr>\n",
       "      <th>16</th>\n",
       "      <td>NITRO Barrel-aged Nut Brown</td>\n",
       "      <td>English-style Nut Brown Ale</td>\n",
       "      <td>6.8</td>\n",
       "    </tr>\n",
       "    <tr>\n",
       "      <th>17</th>\n",
       "      <td>NITRO Bitter Geezer</td>\n",
       "      <td>English-style ESB</td>\n",
       "      <td>5.5</td>\n",
       "    </tr>\n",
       "  </tbody>\n",
       "</table>\n",
       "</div>"
      ],
      "text/plain": [
       "                                     name  \\\n",
       "0                                  Rescue   \n",
       "1                            Empyreumatic   \n",
       "2                   Barrel-aged Imperator   \n",
       "3                Continuous Refinement #2   \n",
       "4                              Chin Chin!   \n",
       "5                Asleep on the West Coast   \n",
       "6                             Dunkel Wood   \n",
       "7                 In Sunshine & In Shadow   \n",
       "8                   Barrel-aged Gjaerkauk   \n",
       "9    Barrel-aged Praamzius, Ruler Of Time   \n",
       "10                         Jupiter’s Cake   \n",
       "11  Barrel-aged Thorunn The Shield Maiden   \n",
       "12                          Abject Terror   \n",
       "13               Southern Hemisphere Haze   \n",
       "14                          Proper Porter   \n",
       "15                 Lord Maris, The Otter    \n",
       "16            NITRO Barrel-aged Nut Brown   \n",
       "17                   NITRO Bitter Geezer    \n",
       "\n",
       "                                   style   abv  \n",
       "0                   German-style Pilsner   4.9  \n",
       "1                    Smoked Helles Lager   5.5  \n",
       "2                     Imperial Rauchbier  11.0  \n",
       "3                         West Coast IPA   6.2  \n",
       "4                Irish-style Extra Stout   7.0  \n",
       "5            West Coast-style Double IPA   8.7  \n",
       "6       Oak-aged Munich-style Dark Lager   5.2  \n",
       "7                        Hazy Double IPA   8.0  \n",
       "8       Norwegian-style Smoked Amber Ale   7.2  \n",
       "9                          Baltic Porter  10.5  \n",
       "10              Imperial Breakfast Stout  11.0  \n",
       "11  Norwegian-inspired Helles Bock Lager   8.0  \n",
       "12       Oak-aged Barleywine-style Lager  12.0  \n",
       "13                              Hazy IPA   6.6  \n",
       "14          Historic London-style Porter   5.8  \n",
       "15  Barrel-aged English-style Barleywine  15.7  \n",
       "16           English-style Nut Brown Ale   6.8  \n",
       "17                     English-style ESB   5.5  "
      ]
     },
     "execution_count": 91,
     "metadata": {},
     "output_type": "execute_result"
    }
   ],
   "source": [
    "pd.DataFrame(beer_df)"
   ]
  },
  {
   "cell_type": "code",
   "execution_count": 85,
   "id": "27c64133",
   "metadata": {},
   "outputs": [
    {
     "name": "stdout",
     "output_type": "stream",
     "text": [
      "18\n",
      "18\n",
      "25\n"
     ]
    }
   ],
   "source": [
    "print(len(elderpine.abv)) \n",
    "print(len(elderpine.style))\n",
    "print(len(elderpine.beers))"
   ]
  },
  {
   "cell_type": "code",
   "execution_count": 86,
   "id": "594f1b83",
   "metadata": {},
   "outputs": [
    {
     "data": {
      "text/plain": [
       "['EP Pils',\n",
       " 'Rescue',\n",
       " 'Empyreumatic',\n",
       " 'Barrel-aged Imperator',\n",
       " 'Continuous Refinement #2',\n",
       " 'Chin Chin!',\n",
       " 'Asleep on the West Coast',\n",
       " 'Dunkel Wood',\n",
       " 'In Sunshine & In Shadow',\n",
       " 'Barrel-aged Gjaerkauk',\n",
       " 'Barrel-aged Praamzius, Ruler Of Time',\n",
       " 'Jupiter’s Cake',\n",
       " 'Barrel-aged Thorunn The Shield Maiden',\n",
       " 'Abject Terror',\n",
       " 'Southern Hemisphere Haze',\n",
       " 'Proper Porter',\n",
       " 'Lord Maris, The Otter ',\n",
       " ' ',\n",
       " 'NITRO Barrel-aged Nut Brown',\n",
       " ' ',\n",
       " 'NITRO Bitter Geezer ',\n",
       " 'COMING SOON!',\n",
       " 'Coming Soon!',\n",
       " 'Coming Soon!',\n",
       " 'Coming Soon!']"
      ]
     },
     "execution_count": 86,
     "metadata": {},
     "output_type": "execute_result"
    }
   ],
   "source": [
    "elderpine.beers"
   ]
  },
  {
   "cell_type": "code",
   "execution_count": 23,
   "id": "b3c36483",
   "metadata": {},
   "outputs": [],
   "source": [
    "styles = [col.text for col in driver.find_elements(By.XPATH,r\"//html//div[@class='row sqs-row']//p[@style='text-align:center;white-space:pre-wrap;']//em\")]"
   ]
  },
  {
   "cell_type": "code",
   "execution_count": 26,
   "id": "2c3f26cb",
   "metadata": {},
   "outputs": [],
   "source": [
    "# Only getting the 2nd beer onwards\n",
    "grouped_attr = [col.text for col in driver.find_elements(By.XPATH,\"//div[@class='sqs-html-content']//p[@style='text-align:center;white-space:pre-wrap;']//em\")]"
   ]
  },
  {
   "cell_type": "code",
   "execution_count": 75,
   "id": "75e96cf4",
   "metadata": {},
   "outputs": [
    {
     "name": "stdout",
     "output_type": "stream",
     "text": [
      "no match\n"
     ]
    }
   ],
   "source": [
    "if not re.search(\"ABV\",grouped_attr[0]):\n",
    "    print(\"no match\")\n",
    "else:\n",
    "    print('found a match')"
   ]
  },
  {
   "cell_type": "code",
   "execution_count": 44,
   "id": "0a003a1f",
   "metadata": {},
   "outputs": [],
   "source": [
    "elderpine.abv = [clean_abv(row) for row in grouped_attr if row.__contains__(\" ABV\")]\n",
    "elderpine.style = [row.strip() for row in grouped_attr if re.findall(\"^[a-zA-Z]+\",row)\n",
    "                   and row.lower() != \"inside bar only\"]\n"
   ]
  },
  {
   "cell_type": "code",
   "execution_count": 69,
   "id": "f7e28fb8",
   "metadata": {},
   "outputs": [],
   "source": [
    "assert len(elderpine.abv) == len(elderpine.style)"
   ]
  },
  {
   "cell_type": "code",
   "execution_count": 76,
   "id": "c10ac7e9",
   "metadata": {},
   "outputs": [],
   "source": [
    "assert len(elderpine.name) == len(elderpine.style)"
   ]
  },
  {
   "cell_type": "code",
   "execution_count": null,
   "id": "f94aca9c",
   "metadata": {},
   "outputs": [],
   "source": []
  },
  {
   "cell_type": "markdown",
   "id": "e63468e4",
   "metadata": {},
   "source": [
    "# Other Half Brewing"
   ]
  },
  {
   "cell_type": "code",
   "execution_count": 92,
   "id": "70e259b6",
   "metadata": {},
   "outputs": [],
   "source": [
    "otherhalf = Brewery('Other Half Brewing', \"https://otherhalfbrewing.com/our-beers\")\n",
    "driver.get(otherhalf.url)\n",
    "button = driver.find_element(By.XPATH, '//button[@id=\"age-gate-pass\"]')\n",
    "button.click()"
   ]
  },
  {
   "cell_type": "code",
   "execution_count": 39,
   "id": "2cdeabfe",
   "metadata": {},
   "outputs": [],
   "source": [
    "driver.maximize_window()"
   ]
  },
  {
   "cell_type": "code",
   "execution_count": 94,
   "id": "6a439b08",
   "metadata": {},
   "outputs": [],
   "source": [
    "driver.quit()"
   ]
  },
  {
   "cell_type": "markdown",
   "id": "30b9875e",
   "metadata": {},
   "source": [
    "# Falling Branch Brewing"
   ]
  },
  {
   "cell_type": "markdown",
   "id": "d5e8ad4b",
   "metadata": {},
   "source": []
  }
 ],
 "metadata": {
  "kernelspec": {
   "display_name": "Python 3",
   "language": "python",
   "name": "python3"
  },
  "language_info": {
   "codemirror_mode": {
    "name": "ipython",
    "version": 3
   },
   "file_extension": ".py",
   "mimetype": "text/x-python",
   "name": "python",
   "nbconvert_exporter": "python",
   "pygments_lexer": "ipython3",
   "version": "3.10.11"
  }
 },
 "nbformat": 4,
 "nbformat_minor": 5
}
