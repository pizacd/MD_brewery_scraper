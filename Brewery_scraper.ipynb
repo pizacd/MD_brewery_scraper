{
 "cells": [
  {
   "cell_type": "markdown",
   "id": "44ba9d26",
   "metadata": {},
   "source": [
    "# Import Libraries"
   ]
  },
  {
   "cell_type": "code",
   "execution_count": 1,
   "id": "e0c3c4a7",
   "metadata": {},
   "outputs": [],
   "source": [
    "#import all required libraries\n",
    "from decimal import Decimal\n",
    "from io import BytesIO\n",
    "import json\n",
    "import logging\n",
    "import os\n",
    "import requests\n",
    "from zipfile import ZipFile\n",
    "from boto3.dynamodb.conditions import Key\n",
    "from boto3 import Session\n",
    "from botocore.exceptions import ClientError\n",
    "from configparser import ConfigParser\n",
    "from selenium import webdriver\n",
    "from selenium.webdriver.common.by import By\n",
    "from selenium.webdriver.support.ui import WebDriverWait\n",
    "# from selenium.webdriver.support import expected_conditions as EC\n",
    "import time\n",
    "import csv\n",
    "from datetime import date\n",
    "import pandas as pd\n",
    "import re\n",
    "\n",
    "\n",
    "from src.beer_functions import Beers\n",
    "from src.utils import (setup_driver,\n",
    "                       authenticate_age,\n",
    "                       extract_text)"
   ]
  },
  {
   "cell_type": "code",
   "execution_count": 2,
   "id": "4ae7e178",
   "metadata": {},
   "outputs": [],
   "source": [
    "driver = setup_driver()"
   ]
  },
  {
   "cell_type": "code",
   "execution_count": 3,
   "id": "72693066",
   "metadata": {},
   "outputs": [],
   "source": [
    "session = Session(profile_name='ds1')\n",
    "dyn_resource = session.resource(\"dynamodb\")\n",
    "table = dyn_resource.Table('md-brewery')"
   ]
  },
  {
   "cell_type": "code",
   "execution_count": 51,
   "id": "226726e2",
   "metadata": {},
   "outputs": [],
   "source": [
    "# table = dyn_resource.create_table(TableName = 'md-brewery',\n",
    "#                               KeySchema=[\n",
    "#                     {\"AttributeName\": \"scraping_date\", \"KeyType\": \"HASH\"},  # Partition key\n",
    "#                     {\"AttributeName\": \"beer_name\", \"KeyType\": \"RANGE\"},  # Sort key\n",
    "#                 ],\n",
    "#                 AttributeDefinitions=[\n",
    "#                     {\"AttributeName\": \"scraping_date\", \"AttributeType\": \"S\"},\n",
    "#                     {\"AttributeName\": \"beer_name\", \"AttributeType\": \"S\"},\n",
    "#                 ],\n",
    "#                 ProvisionedThroughput={\n",
    "#                     \"ReadCapacityUnits\": 5,\n",
    "#                     \"WriteCapacityUnits\": 5,\n",
    "#                 },)\n",
    "# table.wait_until_exists()"
   ]
  },
  {
   "cell_type": "code",
   "execution_count": 4,
   "id": "a3a5a596",
   "metadata": {},
   "outputs": [],
   "source": [
    "with open(\"beer_xpaths.json\") as file:\n",
    "    beer_json: dict = json.load(file)\n",
    "with open(\"site_access.json\") as file:\n",
    "    access_dict: dict = json.load(file)"
   ]
  },
  {
   "cell_type": "markdown",
   "id": "8b8ae5f7",
   "metadata": {},
   "source": [
    "## Functions"
   ]
  },
  {
   "cell_type": "code",
   "execution_count": 5,
   "id": "ae4c0857",
   "metadata": {},
   "outputs": [],
   "source": [
    "class Brewery:\n",
    "    def __init__(self,site_info: dict,beer_info: dict):\n",
    "        self.site_info = site_info\n",
    "        self.beer_info = beer_info\n",
    "    def __str__(self):\n",
    "        return self.site_info[\"url\"]\n",
    "    def __repr__(self):\n",
    "        return f\"Brewery({self.site_info['url']})\"\n",
    "def clean_abv(raw_abv: str)-> str:\n",
    "    abv_final = re.match(pattern = \"[0-9]+[.]*[0-9]*\",\n",
    "                               string = raw_abv).group(0)\n",
    "    return abv_final"
   ]
  },
  {
   "cell_type": "markdown",
   "id": "7497a86d",
   "metadata": {},
   "source": [
    "## First Brewery"
   ]
  },
  {
   "cell_type": "code",
   "execution_count": 6,
   "id": "5a7d1908",
   "metadata": {},
   "outputs": [],
   "source": [
    "cushwa = Brewery(site_info = access_dict['cushwa'],\n",
    "                 beer_info = beer_json[\"cushwa\"])\n",
    "driver.get(cushwa.site_info[\"url\"])\n",
    "authenticate_age(driver,cushwa.site_info[\"authentication\"])"
   ]
  },
  {
   "cell_type": "markdown",
   "id": "ea7cf1a0",
   "metadata": {},
   "source": [
    "<p>I want a function that assigns to a class, checks authentication, all of that</p>"
   ]
  },
  {
   "cell_type": "code",
   "execution_count": 7,
   "id": "ad033a96",
   "metadata": {},
   "outputs": [],
   "source": [
    "beer_dict = dict()\n",
    "for key in cushwa.beer_info.keys():\n",
    "    if key.lower() != 'abv':\n",
    "        beer_dict[key] = extract_text(driver, cushwa.beer_info[key])\n",
    "    else:\n",
    "        beer_dict[key] = [clean_abv(abv) \\\n",
    "                          for abv in extract_text(driver, cushwa.beer_info[key])]\n",
    "\n",
    "beer_dict[\"scraping_date\"] = date.today().strftime(\"%m/%d/%Y\")"
   ]
  },
  {
   "cell_type": "code",
   "execution_count": 8,
   "id": "f4dbeb09",
   "metadata": {},
   "outputs": [
    {
     "data": {
      "text/html": [
       "<div>\n",
       "<style scoped>\n",
       "    .dataframe tbody tr th:only-of-type {\n",
       "        vertical-align: middle;\n",
       "    }\n",
       "\n",
       "    .dataframe tbody tr th {\n",
       "        vertical-align: top;\n",
       "    }\n",
       "\n",
       "    .dataframe thead th {\n",
       "        text-align: right;\n",
       "    }\n",
       "</style>\n",
       "<table border=\"1\" class=\"dataframe\">\n",
       "  <thead>\n",
       "    <tr style=\"text-align: right;\">\n",
       "      <th></th>\n",
       "      <th>beers</th>\n",
       "      <th>style</th>\n",
       "      <th>description</th>\n",
       "      <th>abv</th>\n",
       "      <th>brewery</th>\n",
       "      <th>scraping_date</th>\n",
       "    </tr>\n",
       "  </thead>\n",
       "  <tbody>\n",
       "    <tr>\n",
       "      <th>0</th>\n",
       "      <td>X Marks the Spot</td>\n",
       "      <td>Lager - Mexican</td>\n",
       "      <td>This Mexican Style Amber pours a beautiful lig...</td>\n",
       "      <td>5.4</td>\n",
       "      <td>Cushwa Brewing Co.</td>\n",
       "      <td>05/21/2024</td>\n",
       "    </tr>\n",
       "    <tr>\n",
       "      <th>1</th>\n",
       "      <td>Mai the 4th Be With You</td>\n",
       "      <td>Maibock</td>\n",
       "      <td>Maibock, a pale, malt driven lager. With notes...</td>\n",
       "      <td>6.7</td>\n",
       "      <td>Cushwa Brewing Co.</td>\n",
       "      <td>05/21/2024</td>\n",
       "    </tr>\n",
       "    <tr>\n",
       "      <th>2</th>\n",
       "      <td>Rad Beer</td>\n",
       "      <td>Lager - American Light</td>\n",
       "      <td>When you have a pizza as good as the World Cha...</td>\n",
       "      <td>4.8</td>\n",
       "      <td>Cushwa Brewing Co.</td>\n",
       "      <td>05/21/2024</td>\n",
       "    </tr>\n",
       "    <tr>\n",
       "      <th>3</th>\n",
       "      <td>That'll Play</td>\n",
       "      <td>Lager - American Light</td>\n",
       "      <td>Sky’s out limes out. That’ll Play is a clean, ...</td>\n",
       "      <td>4.2</td>\n",
       "      <td>Cushwa Brewing Co.</td>\n",
       "      <td>05/21/2024</td>\n",
       "    </tr>\n",
       "    <tr>\n",
       "      <th>4</th>\n",
       "      <td>That’ll Play Masters Edition</td>\n",
       "      <td>Lager - American Light</td>\n",
       "      <td>We took our That’ll Play lager and gave it the...</td>\n",
       "      <td>4.2</td>\n",
       "      <td>Cushwa Brewing Co.</td>\n",
       "      <td>05/21/2024</td>\n",
       "    </tr>\n",
       "    <tr>\n",
       "      <th>5</th>\n",
       "      <td>Kolschwa</td>\n",
       "      <td>Kölsch</td>\n",
       "      <td>Brewed traditionally to the German style</td>\n",
       "      <td>5</td>\n",
       "      <td>Cushwa Brewing Co.</td>\n",
       "      <td>05/21/2024</td>\n",
       "    </tr>\n",
       "    <tr>\n",
       "      <th>6</th>\n",
       "      <td>Pura Pils</td>\n",
       "      <td>Pilsner - Other</td>\n",
       "      <td>An all-day crusher, packed full of flavor that...</td>\n",
       "      <td>5.5</td>\n",
       "      <td>Cushwa Brewing Co.</td>\n",
       "      <td>05/21/2024</td>\n",
       "    </tr>\n",
       "    <tr>\n",
       "      <th>7</th>\n",
       "      <td>Going Bridge</td>\n",
       "      <td>Red Ale - Irish</td>\n",
       "      <td>Predominantly Irish malt, and is fermented wit...</td>\n",
       "      <td>4.8</td>\n",
       "      <td>Cushwa Brewing Co.</td>\n",
       "      <td>05/21/2024</td>\n",
       "    </tr>\n",
       "  </tbody>\n",
       "</table>\n",
       "</div>"
      ],
      "text/plain": [
       "                          beers                   style  \\\n",
       "0              X Marks the Spot         Lager - Mexican   \n",
       "1       Mai the 4th Be With You                 Maibock   \n",
       "2                      Rad Beer  Lager - American Light   \n",
       "3                  That'll Play  Lager - American Light   \n",
       "4  That’ll Play Masters Edition  Lager - American Light   \n",
       "5                      Kolschwa                  Kölsch   \n",
       "6                     Pura Pils         Pilsner - Other   \n",
       "7                  Going Bridge         Red Ale - Irish   \n",
       "\n",
       "                                         description  abv             brewery  \\\n",
       "0  This Mexican Style Amber pours a beautiful lig...  5.4  Cushwa Brewing Co.   \n",
       "1  Maibock, a pale, malt driven lager. With notes...  6.7  Cushwa Brewing Co.   \n",
       "2  When you have a pizza as good as the World Cha...  4.8  Cushwa Brewing Co.   \n",
       "3  Sky’s out limes out. That’ll Play is a clean, ...  4.2  Cushwa Brewing Co.   \n",
       "4  We took our That’ll Play lager and gave it the...  4.2  Cushwa Brewing Co.   \n",
       "5           Brewed traditionally to the German style    5  Cushwa Brewing Co.   \n",
       "6  An all-day crusher, packed full of flavor that...  5.5  Cushwa Brewing Co.   \n",
       "7  Predominantly Irish malt, and is fermented wit...  4.8  Cushwa Brewing Co.   \n",
       "\n",
       "  scraping_date  \n",
       "0    05/21/2024  \n",
       "1    05/21/2024  \n",
       "2    05/21/2024  \n",
       "3    05/21/2024  \n",
       "4    05/21/2024  \n",
       "5    05/21/2024  \n",
       "6    05/21/2024  \n",
       "7    05/21/2024  "
      ]
     },
     "execution_count": 8,
     "metadata": {},
     "output_type": "execute_result"
    }
   ],
   "source": [
    "pd.DataFrame(beer_dict).head(8)"
   ]
  },
  {
   "cell_type": "markdown",
   "id": "b72e05cc",
   "metadata": {},
   "source": [
    "## Write each item to dynamodb table"
   ]
  },
  {
   "cell_type": "code",
   "execution_count": 9,
   "id": "043f5ccd",
   "metadata": {},
   "outputs": [],
   "source": [
    "with table.batch_writer() as writer:\n",
    "    for num in range(len(beer_dict['beers'])):\n",
    "        writer.put_item(Item={\n",
    "        \"scraping_date\": beer_dict[\"scraping_date\"],\n",
    "        \"brewery\": beer_dict[\"brewery\"][num],\n",
    "        \"beer_name\": beer_dict[\"beers\"][num],\n",
    "        \"style\": beer_dict[\"style\"][num],\n",
    "        \"abv\": Decimal(beer_dict[\"abv\"][num]),\n",
    "        \"description\": beer_dict[\"description\"][num]\n",
    "        }\n",
    "        )\n"
   ]
  },
  {
   "cell_type": "code",
   "execution_count": 64,
   "id": "301d97e1",
   "metadata": {},
   "outputs": [],
   "source": [
    "# for num in range(len(beer_dict['name'])):\n",
    "#     table.put_item(\n",
    "#                 Item={\n",
    "#                     \"scraping_date\": beer_dict[\"scraping_date\"],\n",
    "#                     \"brewery\": beer_dict[\"maker\"][num],\n",
    "#                     \"beer_name\": beer_dict[\"name\"][num],\n",
    "#                     \"style\": beer_dict[\"style\"][num],\n",
    "#                     \"abv\": Decimal(str(beer_dict[\"abv\"][num])),\n",
    "#                     \"description\": beer_dict[\"description\"][num]\n",
    "#                     }\n",
    "#             )"
   ]
  },
  {
   "cell_type": "code",
   "execution_count": 10,
   "id": "25c00d9a",
   "metadata": {},
   "outputs": [],
   "source": [
    "driver.quit()"
   ]
  },
  {
   "cell_type": "markdown",
   "id": "ef3c68a4",
   "metadata": {},
   "source": [
    "# Elder Pine"
   ]
  },
  {
   "cell_type": "code",
   "execution_count": 29,
   "id": "c504cb37",
   "metadata": {},
   "outputs": [],
   "source": [
    "elderpine = Brewery(beer_info=beer_json[\"elderpine\"],\n",
    "                    site_info = access_dict[\"elderpine\"])\n",
    "elderpine.beers = [col.text for col in driver.find_elements(By.XPATH,\"//div[@class='sqs-html-content']/p[contains(@style,'text')]/strong\")\n",
    "                   if re.search(\"[a-zA-Z]+\", col.text) and not col.text.lower().startswith('coming soon')]\n",
    "styles = [col.text for col in driver.find_elements(By.XPATH,r\"//html//div[@class='row sqs-row']//p[@style='text-align:center;white-space:pre-wrap;']//em\")]\n",
    "[col.text for col in driver.find_elements(By.XPATH,\"//html//div[@class='row sqs-row']//p[@style='text-align:center;white-space:pre-wrap;']\")]\n",
    "grouped_attr = [col.text for col in driver.find_elements(By.XPATH,\"//div[@class='sqs-html-content']//p[@style='text-align:center;white-space:pre-wrap;']//em\")]"
   ]
  },
  {
   "cell_type": "code",
   "execution_count": 32,
   "id": "3362dba9",
   "metadata": {},
   "outputs": [
    {
     "data": {
      "text/plain": [
       "['Oak-aged Munich-style Dark Lager ',\n",
       " '5.2% ABV',\n",
       " 'Mexican-style Lager',\n",
       " '4.7% ABV',\n",
       " 'Barrel-aged Dark Sour Ale',\n",
       " '9% ABV',\n",
       " 'Barrel-aged Sour Citrus Ale',\n",
       " '7% ABV',\n",
       " 'CAN POUR',\n",
       " 'Fruited Belgian-style Witbier',\n",
       " '5% ABV',\n",
       " 'West Coast-style Double IPA',\n",
       " '8.7% ABV',\n",
       " 'Classic Belgian-style Witbier',\n",
       " '5% ABV',\n",
       " 'CAN POUR',\n",
       " 'Hazy Session IPA',\n",
       " '4.4% ABV',\n",
       " 'CAN POUR',\n",
       " 'Coffee Dark Mild',\n",
       " '3.8% ABV',\n",
       " 'Barrel-aged Boysenberry Sour Ale',\n",
       " '8% ABV',\n",
       " 'Hazy Double IPA',\n",
       " '8.4% ABV',\n",
       " 'Inside Bar Only',\n",
       " 'Norwegian-inspired Helles Bock Lager',\n",
       " '8% ABV',\n",
       " 'CAN POUR',\n",
       " 'Hazy IPA',\n",
       " '7% ABV',\n",
       " 'Inside Bar Only',\n",
       " 'Barrel-aged Ryewine',\n",
       " '13% ABV',\n",
       " 'Inside Bar Only',\n",
       " ' Barrel-aged English-style Barleywine',\n",
       " '15.7% ABV',\n",
       " 'Inside Bar Only',\n",
       " 'English-style ESB',\n",
       " '5.5% ABV',\n",
       " 'Inside Bar Only',\n",
       " 'English-style Nut Brown Ale',\n",
       " '6.8% ABV',\n",
       " 'COMING SOON',\n",
       " 'COMING SOON']"
      ]
     },
     "execution_count": 32,
     "metadata": {},
     "output_type": "execute_result"
    }
   ],
   "source": [
    "grouped_attr"
   ]
  },
  {
   "cell_type": "markdown",
   "id": "d2449db7",
   "metadata": {},
   "source": [
    "# Removing the first beer in the list"
   ]
  },
  {
   "cell_type": "markdown",
   "id": "5bdc8f36",
   "metadata": {},
   "source": [
    "## The page is using different tags for the first beer abv and style"
   ]
  },
  {
   "cell_type": "code",
   "execution_count": 26,
   "id": "2c3f26cb",
   "metadata": {},
   "outputs": [],
   "source": [
    "# Only getting the 2nd beer onwards\n",
    "grouped_attr = [col.text for col in driver.find_elements(By.XPATH,\"//div[@class='sqs-html-content']//p[@style='text-align:center;white-space:pre-wrap;']//em\")]"
   ]
  },
  {
   "cell_type": "code",
   "execution_count": 41,
   "id": "0a003a1f",
   "metadata": {},
   "outputs": [],
   "source": [
    "elderpine.abv = [clean_abv(row) for row in grouped_attr if row.__contains__(\" ABV\")]\n",
    "elderpine.style = [row.strip() for row in grouped_attr if re.findall(\"^[a-zA-Z]+\",row)\n",
    "                   and row.lower() != \"inside bar only\"]\n"
   ]
  },
  {
   "cell_type": "code",
   "execution_count": 43,
   "id": "460fa49b",
   "metadata": {},
   "outputs": [
    {
     "data": {
      "text/plain": [
       "['Oak-aged Munich-style Dark Lager',\n",
       " 'Mexican-style Lager',\n",
       " 'Barrel-aged Dark Sour Ale',\n",
       " 'Barrel-aged Sour Citrus Ale',\n",
       " 'CAN POUR',\n",
       " 'Fruited Belgian-style Witbier',\n",
       " 'West Coast-style Double IPA',\n",
       " 'Classic Belgian-style Witbier',\n",
       " 'CAN POUR',\n",
       " 'Hazy Session IPA',\n",
       " 'CAN POUR',\n",
       " 'Coffee Dark Mild',\n",
       " 'Barrel-aged Boysenberry Sour Ale',\n",
       " 'Hazy Double IPA',\n",
       " 'Norwegian-inspired Helles Bock Lager',\n",
       " 'CAN POUR',\n",
       " 'Hazy IPA',\n",
       " 'Barrel-aged Ryewine',\n",
       " 'English-style ESB',\n",
       " 'English-style Nut Brown Ale',\n",
       " 'COMING SOON',\n",
       " 'COMING SOON']"
      ]
     },
     "execution_count": 43,
     "metadata": {},
     "output_type": "execute_result"
    }
   ],
   "source": [
    "elderpine.style"
   ]
  },
  {
   "cell_type": "markdown",
   "id": "e63468e4",
   "metadata": {},
   "source": [
    "# Other Half Brewing"
   ]
  },
  {
   "cell_type": "code",
   "execution_count": 25,
   "id": "320fe66c",
   "metadata": {},
   "outputs": [
    {
     "data": {
      "text/plain": [
       "{'beers': {'xpath': False},\n",
       " 'style': {'xpath': False},\n",
       " 'abv': {'xpath': False},\n",
       " 'description': {'xpath': False}}"
      ]
     },
     "execution_count": 25,
     "metadata": {},
     "output_type": "execute_result"
    }
   ],
   "source": [
    "beer_json[\"otherhalf\"]"
   ]
  },
  {
   "cell_type": "code",
   "execution_count": 26,
   "id": "70e259b6",
   "metadata": {},
   "outputs": [],
   "source": [
    "otherhalf = Brewery(site_info = access_dict['otherhalf'],\n",
    "                    beer_info = beer_json[\"otherhalf\"])\n",
    "driver.get(otherhalf.site_info[\"url\"])\n",
    "authenticate_age(driver,otherhalf.site_info[\"authentication\"])"
   ]
  },
  {
   "cell_type": "code",
   "execution_count": 25,
   "id": "6a439b08",
   "metadata": {},
   "outputs": [],
   "source": [
    "driver.quit()"
   ]
  },
  {
   "cell_type": "markdown",
   "id": "30b9875e",
   "metadata": {},
   "source": [
    "# Falling Branch Brewing"
   ]
  },
  {
   "cell_type": "markdown",
   "id": "d5e8ad4b",
   "metadata": {},
   "source": []
  }
 ],
 "metadata": {
  "kernelspec": {
   "display_name": "Python 3",
   "language": "python",
   "name": "python3"
  },
  "language_info": {
   "codemirror_mode": {
    "name": "ipython",
    "version": 3
   },
   "file_extension": ".py",
   "mimetype": "text/x-python",
   "name": "python",
   "nbconvert_exporter": "python",
   "pygments_lexer": "ipython3",
   "version": "3.10.11"
  }
 },
 "nbformat": 4,
 "nbformat_minor": 5
}
